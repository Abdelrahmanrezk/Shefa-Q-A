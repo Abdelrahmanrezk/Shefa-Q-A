{
 "cells": [
  {
   "cell_type": "code",
   "execution_count": 30,
   "id": "94aae934",
   "metadata": {},
   "outputs": [],
   "source": [
    "# !pip install transformers\n",
    "# !pip install sentencepiece\n",
    "# !pip install matplotlib\n",
    "# !pip install pandas\n",
    "# !pip install numpy\n",
    "# !pip install torch\n",
    "# !pip install wandb\n",
    "# !pip install tashaphyne\n",
    "# !pip install emojis\n",
    "\n",
    "from read_write_qrcd import *\n",
    "from assets import *\n",
    "import matplotlib.pyplot as plt\n",
    "from transformers import AutoTokenizer, AutoModelForMaskedLM\n",
    "import torch\n",
    "import sentencepiece\n",
    "from datasets import Dataset\n",
    "import pandas as pd\n",
    "from datasets import load_dataset\n",
    "from datasets import load_dataset, load_metric\n",
    "import random\n",
    "from transformers import AutoTokenizer\n",
    "import transformers\n",
    "from transformers import AutoModelForQuestionAnswering, TrainingArguments, Trainer\n",
    "import torch\n",
    "from transformers import default_data_collator\n",
    "from transformers import AutoTokenizer, AutoModelForQuestionAnswering\n",
    "import torch\n",
    "from data_preprocess import *"
   ]
  },
  {
   "cell_type": "code",
   "execution_count": 31,
   "id": "7455fc8d",
   "metadata": {},
   "outputs": [
    {
     "name": "stdout",
     "output_type": "stream",
     "text": [
      "Loaded 109 records from datasets/qrcd_v1.1_dev.jsonl\n",
      "pq_id: 9:60-61_316\n",
      "pq_id: 2:178-179_400\n",
      "pq_id: 2:190-194_400\n",
      "pq_id: 2:243-245_400\n",
      "pq_id: 4:74-76_400\n",
      "pq_id: 4:80-84_400\n",
      "pq_id: 4:88-91_400\n",
      "pq_id: 5:32-34_400\n",
      "pq_id: 8:38-40_400\n",
      "pq_id: 9:1-6_400\n",
      "pq_id: 9:12-16_400\n",
      "pq_id: 9:28-29_400\n",
      "pq_id: 9:36-37_400\n",
      "pq_id: 9:122-123_400\n",
      "pq_id: 17:31-35_400\n",
      "pq_id: 25:63-77_400\n",
      "pq_id: 33:25-27_400\n",
      "pq_id: 33:60-62_400\n",
      "pq_id: 47:1-6_400\n",
      "pq_id: 49:9-10_400\n",
      "pq_id: 2:34-39_257\n",
      "pq_id: 7:19-25_257\n",
      "pq_id: 20:115-123_257\n",
      "pq_id: 2:83-86_313\n",
      "pq_id: 2:178-179_313\n",
      "pq_id: 2:228-230_313\n",
      "pq_id: 2:234-237_313\n",
      "pq_id: 3:145-148_313\n",
      "pq_id: 3:169-175_313\n",
      "pq_id: 4:36-40_313\n",
      "pq_id: 4:122-126_313\n",
      "pq_id: 5:12-13_313\n",
      "pq_id: 5:82-86_313\n",
      "pq_id: 7:54-56_313\n",
      "pq_id: 9:90-96_313\n",
      "pq_id: 9:100-102_313\n",
      "pq_id: 9:117-121_313\n",
      "pq_id: 17:22-30_313\n",
      "pq_id: 18:29-31_313\n",
      "pq_id: 22:30-37_313\n",
      "pq_id: 29:61-69_313\n",
      "pq_id: 33:28-31_313\n",
      "pq_id: 39:9-10_313\n",
      "pq_id: 39:32-37_313\n",
      "pq_id: 41:33-36_313\n",
      "pq_id: 46:15-18_313\n",
      "pq_id: 53:31-41_313\n",
      "pq_id: 2:124-129_103\n",
      "pq_id: 10:65-70_149\n",
      "pq_id: 20:86-94_163\n",
      "pq_id: 20:95-98_163\n",
      "pq_id: 6:161-163_373\n",
      "pq_id: 39:11-20_373\n",
      "pq_id: 104:1-9_107\n",
      "pq_id: 41:13-18_236\n",
      "pq_id: 46:21-25_236\n",
      "pq_id: 51:38-46_236\n",
      "pq_id: 54:18-22_236\n",
      "pq_id: 69:1-8_236\n",
      "pq_id: 73:15-19_386\n",
      "pq_id: 2:233-233_132\n",
      "pq_id: 31:12-19_132\n",
      "pq_id: 46:15-18_132\n",
      "pq_id: 24:30-31_348\n",
      "pq_id: 33:32-34_348\n",
      "pq_id: 33:53-55_348\n",
      "pq_id: 33:56-59_348\n",
      "pq_id: 2:190-194_304\n",
      "pq_id: 4:88-91_304\n",
      "pq_id: 8:62-66_304\n",
      "pq_id: 9:1-6_304\n",
      "pq_id: 9:73-74_304\n",
      "pq_id: 25:45-55_304\n",
      "pq_id: 47:1-6_304\n",
      "pq_id: 66:8-9_304\n",
      "pq_id: 2:151-153_415\n",
      "pq_id: 3:30-32_415\n",
      "pq_id: 3:130-136_415\n",
      "pq_id: 3:164-165_415\n",
      "pq_id: 4:12-14_415\n",
      "pq_id: 4:58-59_415\n",
      "pq_id: 4:64-65_415\n",
      "pq_id: 4:66-70_415\n",
      "pq_id: 4:80-84_415\n",
      "pq_id: 5:90-93_415\n",
      "pq_id: 5:103-105_415\n",
      "pq_id: 7:157-158_415\n",
      "pq_id: 8:20-26_415\n",
      "pq_id: 9:71-72_415\n",
      "pq_id: 24:46-54_415\n",
      "pq_id: 24:55-57_415\n",
      "pq_id: 24:62-64_415\n",
      "pq_id: 33:21-24_415\n",
      "pq_id: 33:36-40_415\n",
      "pq_id: 33:69-71_415\n",
      "pq_id: 47:33-38_415\n",
      "pq_id: 48:16-17_415\n",
      "pq_id: 49:6-8_415\n",
      "pq_id: 58:12-13_415\n",
      "pq_id: 59:6-7_415\n",
      "pq_id: 64:11-13_415\n",
      "pq_id: 2:256-257_417\n",
      "pq_id: 10:107-109_417\n",
      "pq_id: 17:12-17_417\n",
      "pq_id: 18:29-31_417\n",
      "pq_id: 27:89-93_417\n",
      "pq_id: 39:38-41_417\n",
      "pq_id: 109:1-6_417\n",
      "pq_id: 5:44-47_351\n",
      "Collected 109 Object from datasets/qrcd_v1.1_dev.jsonl\n"
     ]
    }
   ],
   "source": [
    "passage_question_objects = read_JSONL_file('datasets/qrcd_v1.1_dev.jsonl')"
   ]
  },
  {
   "cell_type": "code",
   "execution_count": 32,
   "id": "ab663cae",
   "metadata": {},
   "outputs": [
    {
     "name": "stdout",
     "output_type": "stream",
     "text": [
      "==================================================\n"
     ]
    }
   ],
   "source": [
    "df_file = json_to_dataframe(passage_question_objects)"
   ]
  },
  {
   "cell_type": "code",
   "execution_count": 33,
   "id": "9865d18f",
   "metadata": {},
   "outputs": [
    {
     "data": {
      "text/html": [
       "<div>\n",
       "<style scoped>\n",
       "    .dataframe tbody tr th:only-of-type {\n",
       "        vertical-align: middle;\n",
       "    }\n",
       "\n",
       "    .dataframe tbody tr th {\n",
       "        vertical-align: top;\n",
       "    }\n",
       "\n",
       "    .dataframe thead th {\n",
       "        text-align: right;\n",
       "    }\n",
       "</style>\n",
       "<table border=\"1\" class=\"dataframe\">\n",
       "  <thead>\n",
       "    <tr style=\"text-align: right;\">\n",
       "      <th></th>\n",
       "      <th>id</th>\n",
       "      <th>context</th>\n",
       "      <th>question</th>\n",
       "      <th>answers</th>\n",
       "    </tr>\n",
       "  </thead>\n",
       "  <tbody>\n",
       "    <tr>\n",
       "      <th>0</th>\n",
       "      <td>9:60-61_316</td>\n",
       "      <td>انما الصدقات للفقراء والمساكين والعاملين عليها...</td>\n",
       "      <td>ما هي مصارف الزكاه ؟</td>\n",
       "      <td>{'text': ['للفقراء والمساكين والعاملين عليها و...</td>\n",
       "    </tr>\n",
       "    <tr>\n",
       "      <th>1</th>\n",
       "      <td>2:178-179_400</td>\n",
       "      <td>يا ايها الذين امنوا كتب عليكم القصاص في القتلي...</td>\n",
       "      <td>متي يحل الاسلام دم الشخص ؟</td>\n",
       "      <td>{'text': ['كتب عليكم القصاص في القتلي الحر بال...</td>\n",
       "    </tr>\n",
       "    <tr>\n",
       "      <th>2</th>\n",
       "      <td>2:190-194_400</td>\n",
       "      <td>وقاتلوا في سبيل الله الذين يقاتلونكم ولا تعتدو...</td>\n",
       "      <td>متي يحل الاسلام دم الشخص ؟</td>\n",
       "      <td>{'text': ['قاتلوا في سبيل الله الذين يقاتلونكم...</td>\n",
       "    </tr>\n",
       "    <tr>\n",
       "      <th>3</th>\n",
       "      <td>2:243-245_400</td>\n",
       "      <td>الم تر الي الذين خرجوا من ديارهم وهم الوف حذر ...</td>\n",
       "      <td>متي يحل الاسلام دم الشخص ؟</td>\n",
       "      <td>{'text': ['قاتلوا في سبيل الله'], 'answer_star...</td>\n",
       "    </tr>\n",
       "    <tr>\n",
       "      <th>4</th>\n",
       "      <td>4:74-76_400</td>\n",
       "      <td>فليقاتل في سبيل الله الذين يشرون الحياه الدنيا...</td>\n",
       "      <td>متي يحل الاسلام دم الشخص ؟</td>\n",
       "      <td>{'text': ['الذين امنوا يقاتلون في سبيل الله', ...</td>\n",
       "    </tr>\n",
       "  </tbody>\n",
       "</table>\n",
       "</div>"
      ],
      "text/plain": [
       "              id                                            context  \\\n",
       "0    9:60-61_316  انما الصدقات للفقراء والمساكين والعاملين عليها...   \n",
       "1  2:178-179_400  يا ايها الذين امنوا كتب عليكم القصاص في القتلي...   \n",
       "2  2:190-194_400  وقاتلوا في سبيل الله الذين يقاتلونكم ولا تعتدو...   \n",
       "3  2:243-245_400  الم تر الي الذين خرجوا من ديارهم وهم الوف حذر ...   \n",
       "4    4:74-76_400  فليقاتل في سبيل الله الذين يشرون الحياه الدنيا...   \n",
       "\n",
       "                      question  \\\n",
       "0        ما هي مصارف الزكاه ؟    \n",
       "1  متي يحل الاسلام دم الشخص ؟    \n",
       "2  متي يحل الاسلام دم الشخص ؟    \n",
       "3  متي يحل الاسلام دم الشخص ؟    \n",
       "4  متي يحل الاسلام دم الشخص ؟    \n",
       "\n",
       "                                             answers  \n",
       "0  {'text': ['للفقراء والمساكين والعاملين عليها و...  \n",
       "1  {'text': ['كتب عليكم القصاص في القتلي الحر بال...  \n",
       "2  {'text': ['قاتلوا في سبيل الله الذين يقاتلونكم...  \n",
       "3  {'text': ['قاتلوا في سبيل الله'], 'answer_star...  \n",
       "4  {'text': ['الذين امنوا يقاتلون في سبيل الله', ...  "
      ]
     },
     "execution_count": 33,
     "metadata": {},
     "output_type": "execute_result"
    }
   ],
   "source": [
    "df_file.head()"
   ]
  },
  {
   "cell_type": "code",
   "execution_count": 34,
   "id": "e72ca232",
   "metadata": {},
   "outputs": [],
   "source": [
    "dataset = Dataset.from_pandas(df_file)"
   ]
  },
  {
   "cell_type": "code",
   "execution_count": 35,
   "id": "517cdc09",
   "metadata": {},
   "outputs": [
    {
     "data": {
      "text/plain": [
       "datasets.arrow_dataset.Dataset"
      ]
     },
     "execution_count": 35,
     "metadata": {},
     "output_type": "execute_result"
    }
   ],
   "source": [
    "type(dataset)"
   ]
  },
  {
   "cell_type": "code",
   "execution_count": 37,
   "id": "98d2694f",
   "metadata": {},
   "outputs": [
    {
     "data": {
      "text/plain": [
       "{'id': '9:60-61_316',\n",
       " 'context': 'انما الصدقات للفقراء والمساكين والعاملين عليها والمؤلفه قلوبهم وفي الرقاب والغارمين وفي سبيل الله وابن السبيل فريضه من الله والله عليم حكيم . ومنهم الذين يؤذون النبي ويقولون هو اذن قل اذن خير لكم يؤمن بالله ويؤمن للمؤمنين ورحمه للذين امنوا منكم والذين يؤذون رسول الله لهم عذاب اليم . ',\n",
       " 'question': 'ما هي مصارف الزكاه ؟ ',\n",
       " 'answers': {'answer_start': [13],\n",
       "  'text': ['للفقراء والمساكين والعاملين عليها والمؤلفه قلوبهم وفي الرقاب والغارمين وفي سبيل الله وابن السبيل']}}"
      ]
     },
     "execution_count": 37,
     "metadata": {},
     "output_type": "execute_result"
    }
   ],
   "source": [
    "dataset[0]"
   ]
  },
  {
   "cell_type": "code",
   "execution_count": 38,
   "id": "b61bc603",
   "metadata": {},
   "outputs": [
    {
     "data": {
      "text/plain": [
       "109"
      ]
     },
     "execution_count": 38,
     "metadata": {},
     "output_type": "execute_result"
    }
   ],
   "source": [
    "len(dataset)"
   ]
  },
  {
   "cell_type": "code",
   "execution_count": 39,
   "id": "fb51c9cf",
   "metadata": {},
   "outputs": [
    {
     "name": "stdout",
     "output_type": "stream",
     "text": [
      "Context:لقد تاب الله علي النبي والمهاجرين والانصار الذين اتبعوه في ساعه العسره من بعد ما كاد يزيغ قلوب فريق منهم ثم تاب عليهم انه بهم رءوف رحيم . وعلي الثلاثه الذين خلفوا حتي اذا ضاقت عليهم الارض بما رحبت وضاقت عليهم انفسهم وظنوا ان لا ملجا من الله الا اليه ثم تاب عليهم ليتوبوا ان الله هو التواب الرحيم . يا ايها الذين امنوا اتقوا الله وكونوا مع الصادقين . ما كان لاهل المدينه ومن حولهم من الاعراب ان يتخلفوا عن رسول الله ولا يرغبوا بانفسهم عن نفسه ذلك بانهم لا يصيبهم ظما ولا نصب ولا مخمصه في سبيل الله ولا يطئون موطئا يغيظ الكفار ولا ينالون من عدو نيلا الا كتب لهم به عمل صالح ان الله لا يضيع اجر المحسنين . ولا ينفقون نفقه صغيره ولا كبيره ولا يقطعون واديا الا كتب لهم ليجزيهم الله احسن ما كانوا يعملون . \n",
      "Question:ماذا يشمل الاحسان ؟ \n",
      "Answer:['ما كان لاهل المدينه ومن حولهم من الاعراب ان يتخلفوا عن رسول الله ولا يرغبوا بانفسهم عن نفسه ذلك بانهم لا يصيبهم ظما ولا نصب ولا مخمصه في سبيل الله ولا يطئون موطئا يغيظ الكفار ولا ينالون من عدو نيلا الا كتب لهم به عمل صالح']\n",
      "Answer Start in Text:[347]\n",
      "----------------------------------------------------------------------------------------------------\n",
      "Context:واعبدوا الله ولا تشركوا به شيئا وبالوالدين احسانا وبذي القربي واليتامي والمساكين والجار ذي القربي والجار الجنب والصاحب بالجنب وابن السبيل وما ملكت ايمانكم ان الله لا يحب من كان مختالا فخورا . الذين يبخلون ويامرون الناس بالبخل ويكتمون ما اتاهم الله من فضله واعتدنا للكافرين عذابا مهينا . والذين ينفقون اموالهم رئاء الناس ولا يؤمنون بالله ولا باليوم الاخر ومن يكن الشيطان له قرينا فساء قرينا . وماذا عليهم لو امنوا بالله واليوم الاخر وانفقوا مما رزقهم الله وكان الله بهم عليما . ان الله لا يظلم مثقال ذره وان تك حسنه يضاعفها ويؤت من لدنه اجرا عظيما . \n",
      "Question:ماذا يشمل الاحسان ؟ \n",
      "Answer:['بالوالدين احسانا وبذي القربي واليتامي والمساكين والجار ذي القربي والجار الجنب والصاحب بالجنب وابن السبيل وما ملكت ايمانكم']\n",
      "Answer Start in Text:[33]\n",
      "----------------------------------------------------------------------------------------------------\n",
      "Context:يوم تجد كل نفس ما عملت من خير محضرا وما عملت من سوء تود لو ان بينها وبينه امدا بعيدا ويحذركم الله نفسه والله رءوف بالعباد . قل ان كنتم تحبون الله فاتبعوني يحببكم الله ويغفر لكم ذنوبكم والله غفور رحيم . قل اطيعوا الله والرسول فان تولوا فان الله لا يحب الكافرين . \n",
      "Question:هل هناك اسلام بدون الحديث الشريف ؟ \n",
      "Answer:['قل اطيعوا الله والرسول']\n",
      "Answer Start in Text:[200]\n",
      "----------------------------------------------------------------------------------------------------\n",
      "Context:الذين كفروا وصدوا عن سبيل الله اضل اعمالهم . والذين امنوا وعملوا الصالحات وامنوا بما نزل علي محمد وهو الحق من ربهم كفر عنهم سيئاتهم واصلح بالهم . ذلك بان الذين كفروا اتبعوا الباطل وان الذين امنوا اتبعوا الحق من ربهم كذلك يضرب الله للناس امثالهم . فاذا لقيتم الذين كفروا فضرب الرقاب حتي اذا اثخنتموهم فشدوا الوثاق فاما منا بعد واما فداء حتي تضع الحرب اوزارها ذلك ولو يشاء الله لانتصر منهم ولكن ليبلو بعضكم ببعض والذين قتلوا في سبيل الله فلن يضل اعمالهم . سيهديهم ويصلح بالهم . ويدخلهم الجنه عرفها لهم . \n",
      "Question:ضد من فرض الجهاد ؟ \n",
      "Answer:['الذين كفروا']\n",
      "Answer Start in Text:[255]\n",
      "----------------------------------------------------------------------------------------------------\n",
      "Context:واذ قلنا للملائكه اسجدوا لادم فسجدوا الا ابليس ابي واستكبر وكان من الكافرين . وقلنا يا ادم اسكن انت وزوجك الجنه وكلا منها رغدا حيث شئتما ولا تقربا هذه الشجره فتكونا من الظالمين . فازلهما الشيطان عنها فاخرجهما مما كانا فيه وقلنا اهبطوا بعضكم لبعض عدو ولكم في الارض مستقر ومتاع الي حين . فتلقي ادم من ربه كلمات فتاب عليه انه هو التواب الرحيم . قلنا اهبطوا منها جميعا فاما ياتينكم مني هدي فمن تبع هداي فلا خوف عليهم ولا هم يحزنون . والذين كفروا وكذبوا باياتنا اولئك اصحاب النار هم فيها خالدون . \n",
      "Question:ما هو سبب نزول سيدنا ادم من الجنه ؟ \n",
      "Answer:['لا تقربا هذه الشجره فتكونا من الظالمين . فازلهما الشيطان عنها']\n",
      "Answer Start in Text:[137]\n",
      "----------------------------------------------------------------------------------------------------\n",
      "Context:ورد الله الذين كفروا بغيظهم لم ينالوا خيرا وكفي الله المؤمنين القتال وكان الله قويا عزيزا . وانزل الذين ظاهروهم من اهل الكتاب من صياصيهم وقذف في قلوبهم الرعب فريقا تقتلون وتاسرون فريقا . واورثكم ارضهم وديارهم واموالهم وارضا لم تطئوها وكان الله علي كل شيء قديرا . \n",
      "Question:متي يحل الاسلام دم الشخص ؟ \n",
      "Answer:['الذين ظاهروهم من اهل الكتاب']\n",
      "Answer Start in Text:[97]\n",
      "----------------------------------------------------------------------------------------------------\n",
      "Context:والمطلقات يتربصن بانفسهن ثلاثه قروء ولا يحل لهن ان يكتمن ما خلق الله في ارحامهن ان كن يؤمن بالله واليوم الاخر وبعولتهن احق بردهن في ذلك ان ارادوا اصلاحا ولهن مثل الذي عليهن بالمعروف وللرجال عليهن درجه والله عزيز حكيم . الطلاق مرتان فامساك بمعروف او تسريح باحسان ولا يحل لكم ان تاخذوا مما اتيتموهن شيئا الا ان يخافا الا يقيما حدود الله فان خفتم الا يقيما حدود الله فلا جناح عليهما فيما افتدت به تلك حدود الله فلا تعتدوها ومن يتعد حدود الله فاولئك هم الظالمون . فان طلقها فلا تحل له من بعد حتي تنكح زوجا غيره فان طلقها فلا جناح عليهما ان يتراجعا ان ظنا ان يقيما حدود الله وتلك حدود الله يبينها لقوم يعلمون . \n",
      "Question:ماذا يشمل الاحسان ؟ \n",
      "Answer:['الطلاق مرتان فامساك بمعروف او تسريح باحسان']\n",
      "Answer Start in Text:[218]\n",
      "----------------------------------------------------------------------------------------------------\n",
      "Context:لا اكراه في الدين قد تبين الرشد من الغي فمن يكفر بالطاغوت ويؤمن بالله فقد استمسك بالعروه الوثقي لا انفصام لها والله سميع عليم . الله ولي الذين امنوا يخرجهم من الظلمات الي النور والذين كفروا اولياؤهم الطاغوت يخرجونهم من النور الي الظلمات اولئك اصحاب النار هم فيها خالدون . \n",
      "Question:هل سمح الاسلام بحريه الاعتقاد بالدخول الي الاسلام ؟ \n",
      "Answer:['لا اكراه في الدين']\n",
      "Answer Start in Text:[0]\n",
      "----------------------------------------------------------------------------------------------------\n",
      "Context:الذين كفروا وصدوا عن سبيل الله اضل اعمالهم . والذين امنوا وعملوا الصالحات وامنوا بما نزل علي محمد وهو الحق من ربهم كفر عنهم سيئاتهم واصلح بالهم . ذلك بان الذين كفروا اتبعوا الباطل وان الذين امنوا اتبعوا الحق من ربهم كذلك يضرب الله للناس امثالهم . فاذا لقيتم الذين كفروا فضرب الرقاب حتي اذا اثخنتموهم فشدوا الوثاق فاما منا بعد واما فداء حتي تضع الحرب اوزارها ذلك ولو يشاء الله لانتصر منهم ولكن ليبلو بعضكم ببعض والذين قتلوا في سبيل الله فلن يضل اعمالهم . سيهديهم ويصلح بالهم . ويدخلهم الجنه عرفها لهم . \n",
      "Question:متي يحل الاسلام دم الشخص ؟ \n",
      "Answer:['اذا لقيتم الذين كفروا فضرب الرقاب حتي اذا اثخنتموهم فشدوا الوثاق فاما منا بعد واما فداء حتي تضع الحرب اوزارها']\n",
      "Answer Start in Text:[245]\n",
      "----------------------------------------------------------------------------------------------------\n",
      "Context:قل انني هداني ربي الي صراط مستقيم دينا قيما مله ابراهيم حنيفا وما كان من المشركين . قل ان صلاتي ونسكي ومحياي ومماتي لله رب العالمين . لا شريك له وبذلك امرت وانا اول المسلمين . \n",
      "Question:هل سيدنا محمد ( ص ) هو اول المسلمين ؟ \n",
      "Answer:['انا اول المسلمين']\n",
      "Answer Start in Text:[155]\n",
      "----------------------------------------------------------------------------------------------------\n"
     ]
    }
   ],
   "source": [
    "# datasets = load_dataset(\"squad\")\n",
    "def visualize(datasets, n_questions=10):\n",
    "    n = len(datasets)\n",
    "    random_questions=random.choices(list(range(n)),k=n_questions)\n",
    "    \n",
    "    for i in random_questions:\n",
    "        print(f\"Context:{datasets[i]['context']}\")\n",
    "        print(f\"Question:{datasets[i]['question']}\")\n",
    "        print(f\"Answer:{datasets[i]['answers']['text']}\")\n",
    "        print(f\"Answer Start in Text:{datasets[i]['answers']['answer_start']}\")\n",
    "        print(\"-\"*100)\n",
    "visualize(dataset)"
   ]
  },
  {
   "cell_type": "code",
   "execution_count": null,
   "id": "68ecf12c",
   "metadata": {},
   "outputs": [],
   "source": [
    "# Dealing with long docs:\n",
    "max_length = 384 # The maximum length of a feature (question and context)\n",
    "doc_stride = 128 # The authorized overlap between two part of the context when splitting it\n",
    "\n",
    "def prepare_train_features(examples):\n",
    "    # Tokenize our examples with truncation and padding, but keep the overflows using a stride. This results\n",
    "    # in one example possible giving several features when a context is long, each of those features having a\n",
    "    # context that overlaps a bit the context of the previous feature.\n",
    "    tokenized_examples = tokenizer(\n",
    "        examples[\"question\" ],\n",
    "        examples[\"context\" ],\n",
    "        truncation=\"only_second\",\n",
    "        max_length=max_length,\n",
    "        stride=doc_stride,\n",
    "        return_overflowing_tokens=True,\n",
    "        return_offsets_mapping=True,\n",
    "        padding=\"max_length\",\n",
    "    )\n",
    "\n",
    "    # Since one example might give us several features if it has a long context, we need a map from a feature to\n",
    "    # its corresponding example. This key gives us just that.\n",
    "    # Looks like [0,1,2,2,2,3,4,5,5...] - Here 2nd input pair has been split in 3 parts\n",
    "    sample_mapping = tokenized_examples.pop(\"overflow_to_sample_mapping\")\n",
    "    # The offset mappings will give us a map from token to character position in the original context. This will\n",
    "    # help us compute the start_positions and end_positions.\n",
    "    # Looks like [[(0,0),(0,3),(3,4)...] ] - Contains the actual start indices and end indices for each word in the input.\n",
    "    offset_mapping = tokenized_examples.pop(\"offset_mapping\")\n",
    "\n",
    "    # Let's label those examples!\n",
    "    tokenized_examples[\"start_positions\"] = []\n",
    "    tokenized_examples[\"end_positions\"] = []\n",
    "    print(\"First===================\")\n",
    "    for i, offsets in enumerate(offset_mapping):\n",
    "        # We will label impossible answers with the index of the CLS token.\n",
    "        input_ids = tokenized_examples[\"input_ids\"][i]\n",
    "        cls_index = input_ids.index(tokenizer.cls_token_id)\n",
    "\n",
    "        # Grab the sequence corresponding to that example (to know what is the context and what is the question).\n",
    "        sequence_ids = tokenized_examples.sequence_ids(i)\n",
    "\n",
    "        # One example can give several spans, this is the index of the example containing this span of text.\n",
    "        sample_index = sample_mapping[i]\n",
    "        answers = examples[\"answers\"][sample_index]\n",
    "        # If no answers are given, set the cls_index as answer.\n",
    "        if len(answers[\"answer_start\"]) == 0:\n",
    "            tokenized_examples[\"start_positions\"].append(cls_index)\n",
    "            tokenized_examples[\"end_positions\"].append(cls_index)\n",
    "        else:\n",
    "            # Start/end character index of the answer in the text.\n",
    "            start_char = answers[\"answer_start\"][0]\n",
    "            end_char = start_char + len(answers[\"text\"][0])\n",
    "\n",
    "            # Start token index of the current span in the text.\n",
    "            token_start_index = 0\n",
    "            while sequence_ids[token_start_index] != 1:\n",
    "                token_start_index += 1\n",
    "\n",
    "            # End token index of the current span in the text.\n",
    "            token_end_index = len(input_ids) - 1\n",
    "            while sequence_ids[token_end_index] != 1:\n",
    "                token_end_index -= 1\n",
    "\n",
    "            # Detect if the answer is out of the span (in which case this feature is labeled with the CLS index).\n",
    "            if not (offsets[token_start_index][0] <= start_char and offsets[token_end_index][1] >= end_char):\n",
    "                tokenized_examples[\"start_positions\"].append(cls_index)\n",
    "                tokenized_examples[\"end_positions\"].append(cls_index)\n",
    "            else:\n",
    "                # Otherwise move the token_start_index and token_end_index to the two ends of the answer.\n",
    "                # Note: we could go after the last offset if the answer is the last word (edge case).\n",
    "                while token_start_index < len(offsets) and offsets[token_start_index][0] <= start_char:\n",
    "                    token_start_index += 1\n",
    "                tokenized_examples[\"start_positions\"].append(token_start_index - 1)\n",
    "                while offsets[token_end_index][1] >= end_char:\n",
    "                    token_end_index -= 1\n",
    "                tokenized_examples[\"end_positions\"].append(token_end_index + 1)\n",
    "\n",
    "    return tokenized_examples"
   ]
  },
  {
   "cell_type": "code",
   "execution_count": null,
   "id": "cd04e4fc",
   "metadata": {},
   "outputs": [],
   "source": [
    "dataset.column_names"
   ]
  },
  {
   "cell_type": "code",
   "execution_count": null,
   "id": "7d3624be",
   "metadata": {},
   "outputs": [],
   "source": [
    "model_checkpoint = \"salti/AraElectra-base-finetuned-ARCD\"\n",
    "\n",
    "model = AutoModelForQuestionAnswering.from_pretrained(model_checkpoint)\n",
    "model_checkpoint = \"salti/AraElectra-base-finetuned-ARCD\"\n",
    "tokenizer = AutoTokenizer.from_pretrained(model_checkpoint)\n",
    "\n"
   ]
  },
  {
   "cell_type": "code",
   "execution_count": null,
   "id": "6053d6a5",
   "metadata": {},
   "outputs": [],
   "source": [
    "tokenized_datasets = dataset.map(prepare_train_features, batched=True, remove_columns=dataset.column_names)\n"
   ]
  },
  {
   "cell_type": "code",
   "execution_count": null,
   "id": "910dec23",
   "metadata": {},
   "outputs": [],
   "source": [
    "tokenized_datasets['input_ids'][0]"
   ]
  },
  {
   "cell_type": "code",
   "execution_count": null,
   "id": "228a9294",
   "metadata": {},
   "outputs": [],
   "source": [
    "\n",
    "args = TrainingArguments(\n",
    "    f\"test-squad\",\n",
    "    evaluation_strategy = \"epoch\",\n",
    "    learning_rate=2e-5,\n",
    "    per_device_train_batch_size=16,\n",
    "    per_device_eval_batch_size=16,\n",
    "    num_train_epochs=3,\n",
    "    weight_decay=0.01,\n",
    ")\n",
    "\n",
    "data_collator = default_data_collator\n",
    "trainer = Trainer(\n",
    "    model,\n",
    "    args,\n",
    "    train_dataset=tokenized_datasets,\n",
    "#     eval_dataset=tokenized_datasets[\"validation\"],\n",
    "    data_collator=data_collator,\n",
    "    tokenizer=tokenizer,\n",
    ")\n",
    "\n",
    "trainer.train()\n",
    "trainer.save_model(trainer.save_model(\"test-squad-trained\"))"
   ]
  },
  {
   "cell_type": "code",
   "execution_count": 43,
   "id": "b609b02e",
   "metadata": {},
   "outputs": [
    {
     "data": {
      "text/plain": [
       "{'id': '9:60-61_316',\n",
       " 'context': 'انما الصدقات للفقراء والمساكين والعاملين عليها والمؤلفه قلوبهم وفي الرقاب والغارمين وفي سبيل الله وابن السبيل فريضه من الله والله عليم حكيم . ومنهم الذين يؤذون النبي ويقولون هو اذن قل اذن خير لكم يؤمن بالله ويؤمن للمؤمنين ورحمه للذين امنوا منكم والذين يؤذون رسول الله لهم عذاب اليم . ',\n",
       " 'question': 'ما هي مصارف الزكاه ؟ ',\n",
       " 'answers': {'answer_start': [13],\n",
       "  'text': ['للفقراء والمساكين والعاملين عليها والمؤلفه قلوبهم وفي الرقاب والغارمين وفي سبيل الله وابن السبيل']}}"
      ]
     },
     "execution_count": 43,
     "metadata": {},
     "output_type": "execute_result"
    }
   ],
   "source": [
    "dataset[0]"
   ]
  },
  {
   "cell_type": "code",
   "execution_count": 46,
   "id": "80ab3e69",
   "metadata": {},
   "outputs": [
    {
     "data": {
      "text/plain": [
       "{'answer_start': [13],\n",
       " 'text': ['للفقراء والمساكين والعاملين عليها والمؤلفه قلوبهم وفي الرقاب والغارمين وفي سبيل الله وابن السبيل']}"
      ]
     },
     "execution_count": 46,
     "metadata": {},
     "output_type": "execute_result"
    }
   ],
   "source": [
    "dataset[0]['answers']"
   ]
  },
  {
   "cell_type": "code",
   "execution_count": null,
   "id": "ddaa14a6",
   "metadata": {},
   "outputs": [],
   "source": [
    "dataset[0]['question']"
   ]
  },
  {
   "cell_type": "code",
   "execution_count": 56,
   "id": "15343513",
   "metadata": {},
   "outputs": [
    {
     "name": "stdout",
     "output_type": "stream",
     "text": [
      "Question: ؟\n",
      "Answer: \n",
      "\n"
     ]
    }
   ],
   "source": [
    "# This is folder using our model\n",
    "model_checkpoint = \"models/model_4_torch\"\n",
    "tokenizer = AutoTokenizer.from_pretrained(model_checkpoint)\n",
    "\n",
    "\n",
    "model = AutoModelForQuestionAnswering.from_pretrained(model_checkpoint)\n",
    "text = \"\"\"كلا والقمر. والليل إذ أدبر. والصبح إذا أسفر. إنها لإحدى الكبر. نذيرا للبشر. لمن شاء منكم أن يتقدم أو يتأخر. كل نفس بما كسبت رهينة. إلا أصحاب اليمين. في جنات يتساءلون. عن المجرمين. ما سلككم في سقر. قالوا لم نك من المصلين. ولم نك نطعم المسكين. وكنا نخوض مع الخائضين. وكنا نكذب بيوم الدين. حتى أتانا اليقين. فما تنفعهم شفاعة الشافعين.\n",
    "\"\"\"\n",
    "\n",
    "questions = \"\"\"ما هي الدلائل التي تشير بأن الانسان مخير؟\"\"\"\n",
    "\n",
    "for question in questions:\n",
    "    inputs = tokenizer.encode_plus(question, text, add_special_tokens=True, return_tensors=\"pt\")\n",
    "    input_ids = inputs[\"input_ids\"].tolist()[0]\n",
    "    text_tokens = tokenizer.convert_ids_to_tokens(input_ids)\n",
    "\n",
    "pred = model(**inputs)\n",
    "answer_start_scores, answer_end_scores = pred['start_logits'][0] ,pred['end_logits'][0]\n",
    "\n",
    "answer_start = torch.argmax(\n",
    "    answer_start_scores\n",
    ")  # Get the most likely beginning of answer with the argmax of the score\n",
    "answer_end = torch.argmax(answer_end_scores) + 1  # Get the most likely end of answer with the argmax of the score\n",
    "answer = tokenizer.convert_tokens_to_string(tokenizer.convert_ids_to_tokens(input_ids[answer_start:answer_end]))\n",
    "print(f\"Question: {question}\")\n",
    "print(f\"Answer: {answer}\\n\")\n"
   ]
  },
  {
   "cell_type": "code",
   "execution_count": 57,
   "id": "7df04f26",
   "metadata": {},
   "outputs": [],
   "source": [
    "from transformers import pipeline"
   ]
  },
  {
   "cell_type": "code",
   "execution_count": 58,
   "id": "2913f28c",
   "metadata": {},
   "outputs": [
    {
     "data": {
      "text/plain": [
       "[{'score': 0.08747900277376175,\n",
       "  'start': 76,\n",
       "  'end': 106,\n",
       "  'answer': 'لمن شاء منكم أن يتقدم أو يتأخر'},\n",
       " {'score': 0.05618338659405708,\n",
       "  'start': 76,\n",
       "  'end': 88,\n",
       "  'answer': 'لمن شاء منكم'},\n",
       " {'score': 0.04262829199433327,\n",
       "  'start': 63,\n",
       "  'end': 106,\n",
       "  'answer': 'نذيرا للبشر. لمن شاء منكم أن يتقدم أو يتأخر'},\n",
       " {'score': 0.040407273918390274,\n",
       "  'start': 76,\n",
       "  'end': 129,\n",
       "  'answer': 'لمن شاء منكم أن يتقدم أو يتأخر. كل نفس بما كسبت رهينة'},\n",
       " {'score': 0.02737801894545555,\n",
       "  'start': 63,\n",
       "  'end': 88,\n",
       "  'answer': 'نذيرا للبشر. لمن شاء منكم'},\n",
       " {'score': 0.01734713837504387, 'start': 76, 'end': 83, 'answer': 'لمن شاء'},\n",
       " {'score': 0.016793658956885338,\n",
       "  'start': 74,\n",
       "  'end': 106,\n",
       "  'answer': '. لمن شاء منكم أن يتقدم أو يتأخر'},\n",
       " {'score': 0.015763359144330025,\n",
       "  'start': 76,\n",
       "  'end': 123,\n",
       "  'answer': 'لمن شاء منكم أن يتقدم أو يتأخر. كل نفس بما كسبت'},\n",
       " {'score': 0.013342678546905518,\n",
       "  'start': 63,\n",
       "  'end': 74,\n",
       "  'answer': 'نذيرا للبشر'},\n",
       " {'score': 0.012037534266710281,\n",
       "  'start': 76,\n",
       "  'end': 107,\n",
       "  'answer': 'لمن شاء منكم أن يتقدم أو يتأخر.'}]"
      ]
     },
     "execution_count": 58,
     "metadata": {},
     "output_type": "execute_result"
    }
   ],
   "source": [
    "pipe = pipeline(\"question-answering\", model=model, tokenizer=tokenizer)\n",
    "\n",
    "pipe(question=questions, context=text, topk=10)\n"
   ]
  },
  {
   "cell_type": "code",
   "execution_count": 13,
   "id": "856c213f",
   "metadata": {},
   "outputs": [
    {
     "name": "stdout",
     "output_type": "stream",
     "text": [
      "Loaded 109 records from datasets/qrcd_v1.1_dev.jsonl\n",
      "pq_id: 9:60-61_316\n",
      "pq_id: 2:178-179_400\n",
      "pq_id: 2:190-194_400\n",
      "pq_id: 2:243-245_400\n",
      "pq_id: 4:74-76_400\n",
      "pq_id: 4:80-84_400\n",
      "pq_id: 4:88-91_400\n",
      "pq_id: 5:32-34_400\n",
      "pq_id: 8:38-40_400\n",
      "pq_id: 9:1-6_400\n",
      "pq_id: 9:12-16_400\n",
      "pq_id: 9:28-29_400\n",
      "pq_id: 9:36-37_400\n",
      "pq_id: 9:122-123_400\n",
      "pq_id: 17:31-35_400\n",
      "pq_id: 25:63-77_400\n",
      "pq_id: 33:25-27_400\n",
      "pq_id: 33:60-62_400\n",
      "pq_id: 47:1-6_400\n",
      "pq_id: 49:9-10_400\n",
      "pq_id: 2:34-39_257\n",
      "pq_id: 7:19-25_257\n",
      "pq_id: 20:115-123_257\n",
      "pq_id: 2:83-86_313\n",
      "pq_id: 2:178-179_313\n",
      "pq_id: 2:228-230_313\n",
      "pq_id: 2:234-237_313\n",
      "pq_id: 3:145-148_313\n",
      "pq_id: 3:169-175_313\n",
      "pq_id: 4:36-40_313\n",
      "pq_id: 4:122-126_313\n",
      "pq_id: 5:12-13_313\n",
      "pq_id: 5:82-86_313\n",
      "pq_id: 7:54-56_313\n",
      "pq_id: 9:90-96_313\n",
      "pq_id: 9:100-102_313\n",
      "pq_id: 9:117-121_313\n",
      "pq_id: 17:22-30_313\n",
      "pq_id: 18:29-31_313\n",
      "pq_id: 22:30-37_313\n",
      "pq_id: 29:61-69_313\n",
      "pq_id: 33:28-31_313\n",
      "pq_id: 39:9-10_313\n",
      "pq_id: 39:32-37_313\n",
      "pq_id: 41:33-36_313\n",
      "pq_id: 46:15-18_313\n",
      "pq_id: 53:31-41_313\n",
      "pq_id: 2:124-129_103\n",
      "pq_id: 10:65-70_149\n",
      "pq_id: 20:86-94_163\n",
      "pq_id: 20:95-98_163\n",
      "pq_id: 6:161-163_373\n",
      "pq_id: 39:11-20_373\n",
      "pq_id: 104:1-9_107\n",
      "pq_id: 41:13-18_236\n",
      "pq_id: 46:21-25_236\n",
      "pq_id: 51:38-46_236\n",
      "pq_id: 54:18-22_236\n",
      "pq_id: 69:1-8_236\n",
      "pq_id: 73:15-19_386\n",
      "pq_id: 2:233-233_132\n",
      "pq_id: 31:12-19_132\n",
      "pq_id: 46:15-18_132\n",
      "pq_id: 24:30-31_348\n",
      "pq_id: 33:32-34_348\n",
      "pq_id: 33:53-55_348\n",
      "pq_id: 33:56-59_348\n",
      "pq_id: 2:190-194_304\n",
      "pq_id: 4:88-91_304\n",
      "pq_id: 8:62-66_304\n",
      "pq_id: 9:1-6_304\n",
      "pq_id: 9:73-74_304\n",
      "pq_id: 25:45-55_304\n",
      "pq_id: 47:1-6_304\n",
      "pq_id: 66:8-9_304\n",
      "pq_id: 2:151-153_415\n",
      "pq_id: 3:30-32_415\n",
      "pq_id: 3:130-136_415\n",
      "pq_id: 3:164-165_415\n",
      "pq_id: 4:12-14_415\n",
      "pq_id: 4:58-59_415\n",
      "pq_id: 4:64-65_415\n",
      "pq_id: 4:66-70_415\n",
      "pq_id: 4:80-84_415\n",
      "pq_id: 5:90-93_415\n",
      "pq_id: 5:103-105_415\n",
      "pq_id: 7:157-158_415\n",
      "pq_id: 8:20-26_415\n",
      "pq_id: 9:71-72_415\n",
      "pq_id: 24:46-54_415\n",
      "pq_id: 24:55-57_415\n",
      "pq_id: 24:62-64_415\n",
      "pq_id: 33:21-24_415\n",
      "pq_id: 33:36-40_415\n",
      "pq_id: 33:69-71_415\n",
      "pq_id: 47:33-38_415\n",
      "pq_id: 48:16-17_415\n",
      "pq_id: 49:6-8_415\n",
      "pq_id: 58:12-13_415\n",
      "pq_id: 59:6-7_415\n",
      "pq_id: 64:11-13_415\n",
      "pq_id: 2:256-257_417\n",
      "pq_id: 10:107-109_417\n",
      "pq_id: 17:12-17_417\n",
      "pq_id: 18:29-31_417\n",
      "pq_id: 27:89-93_417\n",
      "pq_id: 39:38-41_417\n",
      "pq_id: 109:1-6_417\n",
      "pq_id: 5:44-47_351\n",
      "Collected 109 Object from datasets/qrcd_v1.1_dev.jsonl\n"
     ]
    }
   ],
   "source": [
    "test_passage_question_objects = read_JSONL_file('datasets/qrcd_v1.1_dev.jsonl')"
   ]
  },
  {
   "cell_type": "code",
   "execution_count": 14,
   "id": "a05768af",
   "metadata": {},
   "outputs": [
    {
     "name": "stdout",
     "output_type": "stream",
     "text": [
      "==================================================\n"
     ]
    }
   ],
   "source": [
    "test_df_file   = json_to_dataframe(test_passage_question_objects)"
   ]
  },
  {
   "cell_type": "code",
   "execution_count": null,
   "id": "7db7c140",
   "metadata": {},
   "outputs": [],
   "source": []
  }
 ],
 "metadata": {
  "kernelspec": {
   "display_name": "Python 3",
   "language": "python",
   "name": "python3"
  },
  "language_info": {
   "codemirror_mode": {
    "name": "ipython",
    "version": 3
   },
   "file_extension": ".py",
   "mimetype": "text/x-python",
   "name": "python",
   "nbconvert_exporter": "python",
   "pygments_lexer": "ipython3",
   "version": "3.6.9"
  }
 },
 "nbformat": 4,
 "nbformat_minor": 5
}
