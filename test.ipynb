{
 "cells": [
  {
   "cell_type": "code",
   "execution_count": 1,
   "id": "fc7eae0e",
   "metadata": {},
   "outputs": [],
   "source": [
    "from datasets import get_dataset_config_names\n",
    "import matplotlib.pyplot as plt"
   ]
  },
  {
   "cell_type": "code",
   "execution_count": 2,
   "id": "ec3a0f48",
   "metadata": {},
   "outputs": [
    {
     "data": {
      "text/plain": [
       "['books', 'electronics', 'grocery', 'movies', 'restaurants', 'tripadvisor']"
      ]
     },
     "execution_count": 2,
     "metadata": {},
     "output_type": "execute_result"
    }
   ],
   "source": [
    "domains = get_dataset_config_names(\"subjqa\")\n",
    "domains"
   ]
  },
  {
   "cell_type": "code",
   "execution_count": 3,
   "id": "6a9240e2",
   "metadata": {},
   "outputs": [
    {
     "name": "stderr",
     "output_type": "stream",
     "text": [
      "Reusing dataset subjqa (/home/abdelrahman/.cache/huggingface/datasets/subjqa/electronics/1.1.0/e5588f9298ff2d70686a00cc377e4bdccf4e32287459e3c6baf2dc5ab57fe7fd)\n"
     ]
    },
    {
     "data": {
      "application/vnd.jupyter.widget-view+json": {
       "model_id": "a1ac2f8e3d95483da1af6fbc5dcfdf07",
       "version_major": 2,
       "version_minor": 0
      },
      "text/plain": [
       "  0%|          | 0/3 [00:00<?, ?it/s]"
      ]
     },
     "metadata": {},
     "output_type": "display_data"
    }
   ],
   "source": [
    "from datasets import load_dataset\n",
    "\n",
    "subjqa = load_dataset(\"subjqa\", name=\"electronics\")"
   ]
  },
  {
   "cell_type": "code",
   "execution_count": 4,
   "id": "0ebeb774",
   "metadata": {},
   "outputs": [
    {
     "name": "stdout",
     "output_type": "stream",
     "text": [
      "Is this music song have a goo bass?\n",
      "==================================================\n",
      "{'text': ['Bass is weak as expected', 'Bass is weak as expected, even with EQ adjusted up'], 'answer_start': [1302, 1302], 'answer_subj_level': [1, 1], 'ans_subj_score': [0.5083333253860474, 0.5083333253860474], 'is_ans_subjective': [True, True]}\n"
     ]
    }
   ],
   "source": [
    "print(subjqa['train']['question'][1])\n",
    "print(\"=\"*50)\n",
    "print(subjqa[\"train\"][\"answers\"][1])"
   ]
  },
  {
   "cell_type": "code",
   "execution_count": 5,
   "id": "1fa8ad59",
   "metadata": {},
   "outputs": [
    {
     "data": {
      "text/plain": [
       "datasets.dataset_dict.DatasetDict"
      ]
     },
     "execution_count": 5,
     "metadata": {},
     "output_type": "execute_result"
    }
   ],
   "source": [
    "type(subjqa)"
   ]
  },
  {
   "cell_type": "code",
   "execution_count": 6,
   "id": "baed0dbb",
   "metadata": {},
   "outputs": [
    {
     "name": "stdout",
     "output_type": "stream",
     "text": [
      "Number of questions in train: 1295\n",
      "Number of questions in test: 358\n",
      "Number of questions in validation: 255\n"
     ]
    }
   ],
   "source": [
    "import pandas as pd\n",
    "\n",
    "dfs = {split: dset.to_pandas() for split, dset in subjqa.flatten().items()}\n",
    "\n",
    "for split, df in dfs.items():\n",
    "    print(f\"Number of questions in {split}: {df['id'].nunique()}\")"
   ]
  },
  {
   "cell_type": "code",
   "execution_count": 7,
   "id": "c0998798",
   "metadata": {},
   "outputs": [
    {
     "data": {
      "text/plain": [
       "dict"
      ]
     },
     "execution_count": 7,
     "metadata": {},
     "output_type": "execute_result"
    }
   ],
   "source": [
    "type(dfs)"
   ]
  },
  {
   "cell_type": "code",
   "execution_count": 9,
   "id": "359c942a",
   "metadata": {},
   "outputs": [
    {
     "data": {
      "text/html": [
       "<div>\n",
       "<style scoped>\n",
       "    .dataframe tbody tr th:only-of-type {\n",
       "        vertical-align: middle;\n",
       "    }\n",
       "\n",
       "    .dataframe tbody tr th {\n",
       "        vertical-align: top;\n",
       "    }\n",
       "\n",
       "    .dataframe thead th {\n",
       "        text-align: right;\n",
       "    }\n",
       "</style>\n",
       "<table border=\"1\" class=\"dataframe\">\n",
       "  <thead>\n",
       "    <tr style=\"text-align: right;\">\n",
       "      <th></th>\n",
       "      <th>title</th>\n",
       "      <th>question</th>\n",
       "      <th>answers.text</th>\n",
       "      <th>answers.answer_start</th>\n",
       "      <th>context</th>\n",
       "    </tr>\n",
       "  </thead>\n",
       "  <tbody>\n",
       "    <tr>\n",
       "      <th>791</th>\n",
       "      <td>B005DKZTMG</td>\n",
       "      <td>Does the keyboard lightweight?</td>\n",
       "      <td>[this keyboard is compact]</td>\n",
       "      <td>[215]</td>\n",
       "      <td>I really like this keyboard.  I give it 4 star...</td>\n",
       "    </tr>\n",
       "    <tr>\n",
       "      <th>1159</th>\n",
       "      <td>B00AAIPT76</td>\n",
       "      <td>How is the battery?</td>\n",
       "      <td>[]</td>\n",
       "      <td>[]</td>\n",
       "      <td>I bought this after the first spare gopro batt...</td>\n",
       "    </tr>\n",
       "    <tr>\n",
       "      <th>961</th>\n",
       "      <td>B0074BW614</td>\n",
       "      <td>How is the cell phone screen?</td>\n",
       "      <td>[The interface takes a few tries to get used t...</td>\n",
       "      <td>[535]</td>\n",
       "      <td>Don't get me wrong, I love my e-ink kindle to ...</td>\n",
       "    </tr>\n",
       "    <tr>\n",
       "      <th>1188</th>\n",
       "      <td>B00BGGDVOO</td>\n",
       "      <td>Do you have any computer with mouse?</td>\n",
       "      <td>[]</td>\n",
       "      <td>[]</td>\n",
       "      <td>After deciding to ditch cable TV I started to ...</td>\n",
       "    </tr>\n",
       "    <tr>\n",
       "      <th>999</th>\n",
       "      <td>B007P4VOWC</td>\n",
       "      <td>How is the camera?</td>\n",
       "      <td>[]</td>\n",
       "      <td>[]</td>\n",
       "      <td>I purchased the Tab 2 for my fianc&amp;eacute; and...</td>\n",
       "    </tr>\n",
       "    <tr>\n",
       "      <th>1133</th>\n",
       "      <td>B009H0XQPA</td>\n",
       "      <td>What is the active display?</td>\n",
       "      <td>[Thrilled with this purchase!  I]</td>\n",
       "      <td>[0]</td>\n",
       "      <td>Thrilled with this purchase!  I bought it for ...</td>\n",
       "    </tr>\n",
       "    <tr>\n",
       "      <th>733</th>\n",
       "      <td>B004ZGN6MY</td>\n",
       "      <td>Is a good tripod?</td>\n",
       "      <td>[This tripod is nice and cheap, This tripod is...</td>\n",
       "      <td>[48, 48]</td>\n",
       "      <td>The price to quality is what you would expect....</td>\n",
       "    </tr>\n",
       "    <tr>\n",
       "      <th>305</th>\n",
       "      <td>B0027VT6V4</td>\n",
       "      <td>How do you hear the bass?</td>\n",
       "      <td>[]</td>\n",
       "      <td>[]</td>\n",
       "      <td>I have been using these speakers for about a w...</td>\n",
       "    </tr>\n",
       "    <tr>\n",
       "      <th>34</th>\n",
       "      <td>B00007E7JU</td>\n",
       "      <td>Are the images of very good quality?</td>\n",
       "      <td>[]</td>\n",
       "      <td>[]</td>\n",
       "      <td>When I bought this lens, it rarely came off my...</td>\n",
       "    </tr>\n",
       "    <tr>\n",
       "      <th>905</th>\n",
       "      <td>B006ZS5ATM</td>\n",
       "      <td>What do you think about headphone?</td>\n",
       "      <td>[]</td>\n",
       "      <td>[]</td>\n",
       "      <td>I had a smaller headset that went on the ear. ...</td>\n",
       "    </tr>\n",
       "    <tr>\n",
       "      <th>820</th>\n",
       "      <td>B005HMKKH4</td>\n",
       "      <td>Who is the driver?</td>\n",
       "      <td>[]</td>\n",
       "      <td>[]</td>\n",
       "      <td>///Update: 26Oct2012///After some Googling, I ...</td>\n",
       "    </tr>\n",
       "    <tr>\n",
       "      <th>228</th>\n",
       "      <td>B001CS7UAM</td>\n",
       "      <td>Is the review rating not good ?</td>\n",
       "      <td>[4 and 5 Star reviews, 4 and 5 Star reviews]</td>\n",
       "      <td>[2211, 2211]</td>\n",
       "      <td>***** Update 4/30/2012  -  Apparently the 3/25...</td>\n",
       "    </tr>\n",
       "    <tr>\n",
       "      <th>838</th>\n",
       "      <td>B005HMO6A6</td>\n",
       "      <td>What do you think of the artistic design?</td>\n",
       "      <td>[WIth the latter, I used the keyboard infreque...</td>\n",
       "      <td>[200]</td>\n",
       "      <td>I really don't have anything new to report aft...</td>\n",
       "    </tr>\n",
       "    <tr>\n",
       "      <th>285</th>\n",
       "      <td>B001V9LPT4</td>\n",
       "      <td>How is the bass?</td>\n",
       "      <td>[good bass nice Sound isolation due to the rub...</td>\n",
       "      <td>[202]</td>\n",
       "      <td>I got these on amazon about a day ago, i got t...</td>\n",
       "    </tr>\n",
       "    <tr>\n",
       "      <th>641</th>\n",
       "      <td>B0049P6OTI</td>\n",
       "      <td>Where is the output?</td>\n",
       "      <td>[]</td>\n",
       "      <td>[]</td>\n",
       "      <td>Have a couple of these in my house.  One in ea...</td>\n",
       "    </tr>\n",
       "    <tr>\n",
       "      <th>712</th>\n",
       "      <td>B004T9RR6I</td>\n",
       "      <td>How is the experience?</td>\n",
       "      <td>[this is a product that takes away your contro...</td>\n",
       "      <td>[134]</td>\n",
       "      <td>I have no problem with the functions of this p...</td>\n",
       "    </tr>\n",
       "    <tr>\n",
       "      <th>164</th>\n",
       "      <td>B000RQSGYO</td>\n",
       "      <td>Why do I have an incredible sound?</td>\n",
       "      <td>[The sound is rich, deep and bassy when needed...</td>\n",
       "      <td>[182, 182]</td>\n",
       "      <td>My days as a real audiophile have long since p...</td>\n",
       "    </tr>\n",
       "    <tr>\n",
       "      <th>51</th>\n",
       "      <td>B00009R6TA</td>\n",
       "      <td>Where can I get  extra space room for trucks?</td>\n",
       "      <td>[]</td>\n",
       "      <td>[]</td>\n",
       "      <td>Please note that I am not comparing this backp...</td>\n",
       "    </tr>\n",
       "    <tr>\n",
       "      <th>530</th>\n",
       "      <td>B003LPTAYI</td>\n",
       "      <td>How do you rate the quality?</td>\n",
       "      <td>[]</td>\n",
       "      <td>[]</td>\n",
       "      <td>Their cord is too large to pick it on the go, ...</td>\n",
       "    </tr>\n",
       "    <tr>\n",
       "      <th>722</th>\n",
       "      <td>B004W2JKWG</td>\n",
       "      <td>Do you have a similar experience?</td>\n",
       "      <td>[]</td>\n",
       "      <td>[]</td>\n",
       "      <td>I've debated on whether or not to buy a solid ...</td>\n",
       "    </tr>\n",
       "  </tbody>\n",
       "</table>\n",
       "</div>"
      ],
      "text/plain": [
       "           title                                       question  \\\n",
       "791   B005DKZTMG                 Does the keyboard lightweight?   \n",
       "1159  B00AAIPT76                            How is the battery?   \n",
       "961   B0074BW614                  How is the cell phone screen?   \n",
       "1188  B00BGGDVOO           Do you have any computer with mouse?   \n",
       "999   B007P4VOWC                             How is the camera?   \n",
       "1133  B009H0XQPA                    What is the active display?   \n",
       "733   B004ZGN6MY                              Is a good tripod?   \n",
       "305   B0027VT6V4                      How do you hear the bass?   \n",
       "34    B00007E7JU           Are the images of very good quality?   \n",
       "905   B006ZS5ATM             What do you think about headphone?   \n",
       "820   B005HMKKH4                             Who is the driver?   \n",
       "228   B001CS7UAM                Is the review rating not good ?   \n",
       "838   B005HMO6A6      What do you think of the artistic design?   \n",
       "285   B001V9LPT4                               How is the bass?   \n",
       "641   B0049P6OTI                           Where is the output?   \n",
       "712   B004T9RR6I                         How is the experience?   \n",
       "164   B000RQSGYO             Why do I have an incredible sound?   \n",
       "51    B00009R6TA  Where can I get  extra space room for trucks?   \n",
       "530   B003LPTAYI                   How do you rate the quality?   \n",
       "722   B004W2JKWG              Do you have a similar experience?   \n",
       "\n",
       "                                           answers.text answers.answer_start  \\\n",
       "791                          [this keyboard is compact]                [215]   \n",
       "1159                                                 []                   []   \n",
       "961   [The interface takes a few tries to get used t...                [535]   \n",
       "1188                                                 []                   []   \n",
       "999                                                  []                   []   \n",
       "1133                  [Thrilled with this purchase!  I]                  [0]   \n",
       "733   [This tripod is nice and cheap, This tripod is...             [48, 48]   \n",
       "305                                                  []                   []   \n",
       "34                                                   []                   []   \n",
       "905                                                  []                   []   \n",
       "820                                                  []                   []   \n",
       "228        [4 and 5 Star reviews, 4 and 5 Star reviews]         [2211, 2211]   \n",
       "838   [WIth the latter, I used the keyboard infreque...                [200]   \n",
       "285   [good bass nice Sound isolation due to the rub...                [202]   \n",
       "641                                                  []                   []   \n",
       "712   [this is a product that takes away your contro...                [134]   \n",
       "164   [The sound is rich, deep and bassy when needed...           [182, 182]   \n",
       "51                                                   []                   []   \n",
       "530                                                  []                   []   \n",
       "722                                                  []                   []   \n",
       "\n",
       "                                                context  \n",
       "791   I really like this keyboard.  I give it 4 star...  \n",
       "1159  I bought this after the first spare gopro batt...  \n",
       "961   Don't get me wrong, I love my e-ink kindle to ...  \n",
       "1188  After deciding to ditch cable TV I started to ...  \n",
       "999   I purchased the Tab 2 for my fianc&eacute; and...  \n",
       "1133  Thrilled with this purchase!  I bought it for ...  \n",
       "733   The price to quality is what you would expect....  \n",
       "305   I have been using these speakers for about a w...  \n",
       "34    When I bought this lens, it rarely came off my...  \n",
       "905   I had a smaller headset that went on the ear. ...  \n",
       "820   ///Update: 26Oct2012///After some Googling, I ...  \n",
       "228   ***** Update 4/30/2012  -  Apparently the 3/25...  \n",
       "838   I really don't have anything new to report aft...  \n",
       "285   I got these on amazon about a day ago, i got t...  \n",
       "641   Have a couple of these in my house.  One in ea...  \n",
       "712   I have no problem with the functions of this p...  \n",
       "164   My days as a real audiophile have long since p...  \n",
       "51    Please note that I am not comparing this backp...  \n",
       "530   Their cord is too large to pick it on the go, ...  \n",
       "722   I've debated on whether or not to buy a solid ...  "
      ]
     },
     "execution_count": 9,
     "metadata": {},
     "output_type": "execute_result"
    }
   ],
   "source": [
    "qa_cols = [\"title\", \"question\", \"answers.text\",\n",
    "           \"answers.answer_start\", \"context\"]\n",
    "sample_df = dfs[\"train\"][qa_cols].sample(20, random_state=7)\n",
    "sample_df"
   ]
  },
  {
   "cell_type": "code",
   "execution_count": 10,
   "id": "f05a76be",
   "metadata": {},
   "outputs": [
    {
     "data": {
      "text/plain": [
       "\"I really like this keyboard.  I give it 4 stars because it doesn't have a CAPS LOCK key so I never know if my caps are on.  But for the price, it really suffices as a wireless keyboard.  I have very large hands and this keyboard is compact, but I have no complaints.\""
      ]
     },
     "execution_count": 10,
     "metadata": {},
     "output_type": "execute_result"
    }
   ],
   "source": [
    "dfs[\"train\"]['context'][791]"
   ]
  },
  {
   "cell_type": "code",
   "execution_count": 11,
   "id": "90b4a915",
   "metadata": {},
   "outputs": [
    {
     "data": {
      "text/plain": [
       "0       I have had Koss headphones in the past, Pro 4A...\n",
       "1       To anyone who hasn't tried all the various typ...\n",
       "2       I have had many sub-$100 headphones from $5 Pa...\n",
       "3       My sister's Bose headphones finally died and s...\n",
       "4       Wow. Just wow. I'm a 22 yr old with a crazy ob...\n",
       "                              ...                        \n",
       "1290    I ordered my new NewTrend Airbender Pro NT610K...\n",
       "1291    I ordered my new NewTrend Airbender Pro NT610K...\n",
       "1292    After using this case for a few days, I have g...\n",
       "1293    Edit 4/21/14. I finally caved and purchased a ...\n",
       "1294    The Belkin QODE Portable Bluetooth Keyboard Ca...\n",
       "Name: context, Length: 1295, dtype: object"
      ]
     },
     "execution_count": 11,
     "metadata": {},
     "output_type": "execute_result"
    }
   ],
   "source": [
    "dfs[\"train\"]['context']"
   ]
  },
  {
   "cell_type": "code",
   "execution_count": 12,
   "id": "78d14467",
   "metadata": {},
   "outputs": [
    {
     "data": {
      "text/plain": [
       "0                                                      []\n",
       "1       [Bass is weak as expected, Bass is weak as exp...\n",
       "2               [The only fault in the sound is the bass]\n",
       "3                               [the best of all of them]\n",
       "4       [The sound is so crisp, crazy obsession with s...\n",
       "                              ...                        \n",
       "1290                                                   []\n",
       "1291                                                   []\n",
       "1292                                                   []\n",
       "1293    [the keyboard is very easy to use, the keyboar...\n",
       "1294                     [is easy to use and works great]\n",
       "Name: answers.text, Length: 1295, dtype: object"
      ]
     },
     "execution_count": 12,
     "metadata": {},
     "output_type": "execute_result"
    }
   ],
   "source": [
    "dfs[\"train\"]['answers.text']"
   ]
  },
  {
   "cell_type": "code",
   "execution_count": 13,
   "id": "0bafd5cd",
   "metadata": {},
   "outputs": [
    {
     "data": {
      "text/plain": [
       "numpy.ndarray"
      ]
     },
     "execution_count": 13,
     "metadata": {},
     "output_type": "execute_result"
    }
   ],
   "source": [
    "type(dfs[\"train\"]['answers.text'][1])"
   ]
  },
  {
   "cell_type": "code",
   "execution_count": 14,
   "id": "a7024a70",
   "metadata": {},
   "outputs": [
    {
     "data": {
      "text/plain": [
       "(2,)"
      ]
     },
     "execution_count": 14,
     "metadata": {},
     "output_type": "execute_result"
    }
   ],
   "source": [
    "dfs[\"train\"]['answers.text'][1].shape"
   ]
  },
  {
   "cell_type": "code",
   "execution_count": 15,
   "id": "f3e4cc01",
   "metadata": {},
   "outputs": [
    {
     "data": {
      "image/png": "[encoded data removed]",
      "text/plain": [
       "<Figure size 432x288 with 1 Axes>"
      ]
     },
     "metadata": {
      "needs_background": "light"
     },
     "output_type": "display_data"
    }
   ],
   "source": [
    "counts = {}\n",
    "question_types = [\"What\", \"How\", \"Is\", \"Does\", \"Do\", \"Was\", \"Where\", \"Why\"]\n",
    "\n",
    "for q in question_types:\n",
    "    counts[q] = dfs[\"train\"][\"question\"].str.startswith(q).value_counts()[True]\n",
    "\n",
    "pd.Series(counts).sort_values().plot.barh()\n",
    "plt.title(\"Frequency of Question Types\")\n",
    "plt.show()"
   ]
  },
  {
   "cell_type": "code",
   "execution_count": 16,
   "id": "2bccf19a",
   "metadata": {},
   "outputs": [
    {
     "name": "stdout",
     "output_type": "stream",
     "text": [
      "How is the camera?\n",
      "How do you like the control?\n",
      "How fast is the charger?\n",
      "What is direction?\n",
      "What is the quality of the construction of the bag?\n",
      "What is your impression of the product?\n",
      "Is this how zoom works?\n",
      "Is sound clear?\n",
      "Is it a wireless keyboard?\n"
     ]
    }
   ],
   "source": [
    "for question_type in [\"How\", \"What\", \"Is\"]:\n",
    "    for question in (\n",
    "        dfs[\"train\"][dfs[\"train\"].question.str.startswith(question_type)]\n",
    "        .sample(n=3, random_state=42)['question']):\n",
    "        print(question)"
   ]
  },
  {
   "cell_type": "code",
   "execution_count": 17,
   "id": "96d6878c",
   "metadata": {},
   "outputs": [],
   "source": [
    "from transformers import AutoTokenizer"
   ]
  },
  {
   "cell_type": "code",
   "execution_count": 18,
   "id": "b20d160b",
   "metadata": {},
   "outputs": [],
   "source": [
    "model_ckpt = \"deepset/minilm-uncased-squad2\"\n",
    "tokenizer = AutoTokenizer.from_pretrained(model_ckpt)"
   ]
  },
  {
   "cell_type": "code",
   "execution_count": 21,
   "id": "d2ad3624",
   "metadata": {},
   "outputs": [],
   "source": [
    "question = \"How much music can this hold?\"\n",
    "context = \"\"\"An MP3 is about 1 MB/minute, so about 6000 hours depending on \\\n",
    "file size.\"\"\"\n",
    "inputs = tokenizer(question, context, return_tensors=\"pt\")"
   ]
  },
  {
   "cell_type": "code",
   "execution_count": 22,
   "id": "74a10b44",
   "metadata": {},
   "outputs": [
    {
     "data": {
      "text/plain": [
       "{'input_ids': tensor([[  101,  2129,  2172,  2189,  2064,  2023,  2907,  1029,   102,  2019,\n",
       "         23378,  2003,  2055,  1015, 16914,  1013,  3371,  1010,  2061,  2055,\n",
       "         25961,  2847,  5834,  2006,  5371,  2946,  1012,   102]]), 'token_type_ids': tensor([[0, 0, 0, 0, 0, 0, 0, 0, 0, 1, 1, 1, 1, 1, 1, 1, 1, 1, 1, 1, 1, 1, 1, 1,\n",
       "         1, 1, 1, 1]]), 'attention_mask': tensor([[1, 1, 1, 1, 1, 1, 1, 1, 1, 1, 1, 1, 1, 1, 1, 1, 1, 1, 1, 1, 1, 1, 1, 1,\n",
       "         1, 1, 1, 1]])}"
      ]
     },
     "execution_count": 22,
     "metadata": {},
     "output_type": "execute_result"
    }
   ],
   "source": [
    "inputs"
   ]
  },
  {
   "cell_type": "code",
   "execution_count": 23,
   "id": "701f2bb0",
   "metadata": {},
   "outputs": [
    {
     "name": "stdout",
     "output_type": "stream",
     "text": [
      "[CLS] how much music can this hold? [SEP] an mp3 is about 1 mb / minute, so about 6000 hours depending on file size. [SEP]\n"
     ]
    }
   ],
   "source": [
    "print(tokenizer.decode(inputs[\"input_ids\"][0]))\n"
   ]
  },
  {
   "cell_type": "code",
   "execution_count": null,
   "id": "ce1388e1",
   "metadata": {},
   "outputs": [],
   "source": [
    "import torch\n",
    "from transformers import AutoModelForQuestionAnswering"
   ]
  },
  {
   "cell_type": "code",
   "execution_count": null,
   "id": "89195ec6",
   "metadata": {},
   "outputs": [],
   "source": [
    "\n",
    "model = AutoModelForQuestionAnswering.from_pretrained(model_ckpt)\n",
    "\n",
    "with torch.no_grad():\n",
    "    outputs = model(**inputs)\n",
    "print(outputs)"
   ]
  },
  {
   "cell_type": "code",
   "execution_count": null,
   "id": "455ea854",
   "metadata": {},
   "outputs": [],
   "source": [
    "start_logits = outputs.start_logits\n",
    "end_logits = outputs.end_logits"
   ]
  },
  {
   "cell_type": "code",
   "execution_count": null,
   "id": "61fd2e36",
   "metadata": {},
   "outputs": [],
   "source": [
    "print(f\"Input IDs shape: {inputs.input_ids.size()}\")\n",
    "print(f\"Start logits shape: {start_logits.size()}\")\n",
    "print(f\"End logits shape: {end_logits.size()}\")"
   ]
  },
  {
   "cell_type": "code",
   "execution_count": null,
   "id": "0949a638",
   "metadata": {},
   "outputs": [],
   "source": [
    "import torch\n",
    "\n",
    "start_idx = torch.argmax(start_logits)\n",
    "end_idx = torch.argmax(end_logits) + 1\n",
    "answer_span = inputs[\"input_ids\"][0][start_idx:end_idx]\n",
    "answer = tokenizer.decode(answer_span)\n",
    "print(f\"Question: {question}\")\n",
    "print(f\"Answer: {answer}\")"
   ]
  },
  {
   "cell_type": "code",
   "execution_count": null,
   "id": "928eb3ed",
   "metadata": {},
   "outputs": [],
   "source": [
    "from transformers import pipeline\n"
   ]
  },
  {
   "cell_type": "code",
   "execution_count": null,
   "id": "7db6e52a",
   "metadata": {},
   "outputs": [],
   "source": [
    "pipe = pipeline(\"question-answering\", model=model, tokenizer=tokenizer)\n",
    "pipe(question=question, context=context, topk=3)\n"
   ]
  },
  {
   "cell_type": "code",
   "execution_count": null,
   "id": "c8feaa99",
   "metadata": {},
   "outputs": [],
   "source": [
    "pipe(question=\"Why is there no data?\", context=context,\n",
    "     handle_impossible_answer=True)"
   ]
  },
  {
   "cell_type": "code",
   "execution_count": null,
   "id": "f9b26786",
   "metadata": {},
   "outputs": [],
   "source": []
  }
 ],
 "metadata": {
  "kernelspec": {
   "display_name": "Python 3",
   "language": "python",
   "name": "python3"
  },
  "language_info": {
   "codemirror_mode": {
    "name": "ipython",
    "version": 3
   },
   "file_extension": ".py",
   "mimetype": "text/x-python",
   "name": "python",
   "nbconvert_exporter": "python",
   "pygments_lexer": "ipython3",
   "version": "3.6.9"
  }
 },
 "nbformat": 4,
 "nbformat_minor": 5
}
