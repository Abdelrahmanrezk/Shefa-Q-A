{
 "cells": [
  {
   "cell_type": "code",
   "execution_count": 1,
   "id": "23198bdf",
   "metadata": {},
   "outputs": [],
   "source": [
    "from datasets import load_dataset, load_metric\n",
    "import random\n",
    "from transformers import AutoTokenizer\n",
    "import transformers\n",
    "from transformers import AutoModelForQuestionAnswering, TrainingArguments, Trainer\n",
    "import torch\n",
    "from transformers import default_data_collator\n",
    "from transformers import AutoTokenizer, AutoModelForQuestionAnswering\n",
    "import torch\n",
    "tokenizer = AutoTokenizer.from_pretrained(\"bert-large-uncased-whole-word-masking-finetuned-squad\")\n",
    "model = AutoModelForQuestionAnswering.from_pretrained(\"bert-large-uncased-whole-word-masking-finetuned-squad\")\n"
   ]
  },
  {
   "cell_type": "code",
   "execution_count": 3,
   "id": "5d983aa0",
   "metadata": {},
   "outputs": [
    {
     "name": "stdout",
     "output_type": "stream",
     "text": [
      "QuestionAnsweringModelOutput(loss=None, start_logits=tensor([[-6.6028, -5.8443, -7.8482, -7.8212, -8.6835, -8.8632, -8.6049, -8.1944,\n",
      "         -8.1338, -7.6590, -7.8377, -9.2932, -6.6028, -4.0176, -2.9258, -7.7681,\n",
      "         -6.9620, -7.9091, -8.1943, -5.9419, -7.8839, -8.2694, -7.8974, -8.0646,\n",
      "         -5.1529, -8.1331, -6.3936, -8.0166, -8.2358, -8.0699, -8.1815, -6.2712,\n",
      "         -7.9358, -8.1978, -8.1440, -5.6098, -6.9490, -6.5179, -6.2459, -7.6979,\n",
      "         -7.7173, -6.1049, -7.6189, -7.2503, -5.4475, -8.1642, -6.3496, -8.0311,\n",
      "         -8.0922, -7.0914, -8.2821, -6.7683, -8.4299, -6.6811, -8.0168, -8.4784,\n",
      "         -7.0992, -8.0497, -8.0467, -8.4790, -7.0054, -7.7931, -6.3428, -6.6257,\n",
      "         -7.1404, -5.9187, -6.9042, -7.0796, -8.0231, -6.6892, -8.0582, -7.7207,\n",
      "         -8.2388, -5.4746, -6.7801, -6.1311, -7.8433, -6.1570, -7.3047, -5.2370,\n",
      "         -2.5079,  5.3793,  5.0301, -3.1776, -4.6009, -6.1616, -6.0828, -3.6223,\n",
      "         -5.2340, -2.4337, -7.2006, -5.7583, -7.5441, -5.9074, -6.7355, -7.2728,\n",
      "         -7.0928, -8.3670, -6.7912, -8.3472, -7.8580, -9.0021, -8.1402, -8.7449,\n",
      "         -6.9872, -8.4350, -8.3675, -7.5647, -7.7293, -6.6029]],\n",
      "       grad_fn=<CopyBackwards>), end_logits=tensor([[-2.5692, -6.4059, -5.7906, -6.2718, -6.1064, -5.9786, -5.1551, -6.5513,\n",
      "         -6.7582, -6.6446, -5.5847, -6.4165, -2.5692, -2.9511, -1.7454, -5.5800,\n",
      "         -6.4483, -5.8327, -6.4858, -6.3131, -5.7456, -6.0962, -4.9829, -6.6913,\n",
      "         -3.5626, -6.4144, -7.0341, -6.3504, -6.7768, -5.6997, -6.9112, -6.9364,\n",
      "         -6.1198, -5.5515, -6.8708, -4.1950, -4.3575, -5.8684, -6.2800, -5.9002,\n",
      "         -6.0118, -4.6605, -4.6428, -6.9260, -4.8634, -5.4278, -6.6378, -5.7338,\n",
      "         -6.6567, -4.1806, -4.8694, -5.5721, -4.7554, -6.7430, -5.1683, -4.9162,\n",
      "         -6.6624, -6.4160, -5.5520, -4.7698, -6.7121, -4.1866, -3.9015, -4.4728,\n",
      "         -6.3791, -5.8196, -4.9376, -4.6836, -6.9324, -6.5098, -5.7417, -5.0426,\n",
      "         -7.0803, -6.0508, -5.3716, -4.6594, -6.7270, -6.5945, -5.3372, -4.6482,\n",
      "         -6.2017, -1.1404,  5.4314,  6.0214, -1.9931, -1.6572,  0.5782,  4.1611,\n",
      "         -4.9056, -2.2546, -2.1315, -0.3012, -2.9557, -6.1279, -5.8535, -5.2644,\n",
      "         -3.5458, -6.0086, -6.4332, -5.0416, -5.8583, -6.6711, -4.6662, -6.9439,\n",
      "         -6.7712, -6.3380, -6.6894, -3.9112, -3.5232, -2.5694]],\n",
      "       grad_fn=<CopyBackwards>), hidden_states=None, attentions=None)\n",
      "Question: How many pretrained models are available in Transformers?\n",
      "Answer: over 32 +\n",
      "\n",
      "QuestionAnsweringModelOutput(loss=None, start_logits=tensor([[-6.5297, -7.4508, -8.6322, -8.0950, -8.5225, -9.6754, -6.5297, -4.7517,\n",
      "         -0.6241, -6.4248, -6.0722, -7.8218, -8.0583, -4.1028, -7.7330, -7.9427,\n",
      "         -8.0885, -8.3356, -4.7560, -7.8275, -3.2552, -6.9399, -7.3849, -7.0897,\n",
      "         -7.6383, -3.8946, -7.2256, -8.0979, -7.6674, -3.8109, -1.6564,  3.5021,\n",
      "          6.8039, -3.0735, -0.1440,  1.3961, -2.5934, -2.6302, -2.3361, -7.5489,\n",
      "         -4.2497, -8.0325, -8.3193, -7.2406, -8.4392, -4.9775, -8.3915, -4.5331,\n",
      "         -7.4649, -8.6408, -5.5510, -7.7955, -7.6013, -8.3340, -3.9929, -5.9937,\n",
      "         -5.9920, -3.7063, -0.0333,  2.4047, -3.0979, -3.6270, -3.6620, -3.0297,\n",
      "         -6.3404, -5.2427, -5.0697,  0.9726, -4.0411, -3.8648, -4.8979, -3.2077,\n",
      "         -5.9659, -4.4185, -2.7853, -1.0643, -4.2854, -7.1929, -1.9714, -6.5952,\n",
      "         -7.3820, -4.3215, -5.8664, -4.4695, -7.7984, -3.5462, -6.7038, -0.4781,\n",
      "         -3.9187, -6.4240, -5.9002, -6.9375, -5.1071, -7.6969, -8.1446, -9.3287,\n",
      "         -7.9684, -8.9400, -5.8558, -7.9739, -8.2885, -6.7917, -7.1087, -6.5297]],\n",
      "       grad_fn=<CopyBackwards>), end_logits=tensor([[-1.2531, -6.5978, -7.3045, -7.5505, -7.9060, -7.9780, -1.2530, -4.7586,\n",
      "         -3.1161, -6.2393, -7.3276, -6.8811, -6.9389, -6.4567, -6.5015, -6.9866,\n",
      "         -5.1051, -6.7108, -3.7308, -7.0597, -6.5433, -6.1471, -6.9793, -5.8929,\n",
      "         -7.3889, -6.3334, -6.4961, -5.4739, -6.6906, -2.5083, -3.5184, -3.1757,\n",
      "         -2.1550, -4.5782, -1.7466, -0.2601,  6.7759, -3.7524, -0.9983, -3.7530,\n",
      "         -5.7250, -4.9230, -6.2197, -2.0294, -4.2631, -3.2301, -4.4744, -5.9314,\n",
      "         -3.4487, -4.5043, -6.0026, -5.9935, -2.7847, -4.3418, -5.4324,  0.0242,\n",
      "         -1.0286,  2.9091, -1.9085, -2.7871, -1.5229,  4.1032, -5.2236, -4.0777,\n",
      "          0.0865,  3.1262, -3.7884, -3.2851, -1.5293,  3.8066, -4.4127, -4.0140,\n",
      "          1.0151,  4.9569, -3.2727, -5.4980, -4.7212, -5.5053, -4.7796, -4.8190,\n",
      "         -3.1668,  1.2903, -5.8651, -4.9833, -5.4992,  1.0859, -4.4592, -4.9083,\n",
      "         -4.6753, -5.1157,  0.5173, -3.9066, -5.7199, -3.0535, -4.7482, -6.4973,\n",
      "         -2.0312, -6.4664, -5.8992, -6.0343, -5.9756,  1.1757,  0.0454, -1.2535]],\n",
      "       grad_fn=<CopyBackwards>), hidden_states=None, attentions=None)\n",
      "Question: What does Transformers provide?\n",
      "Answer: general - purpose architectures\n",
      "\n",
      "QuestionAnsweringModelOutput(loss=None, start_logits=tensor([[-6.1391, -7.9244, -8.1122, -8.0299, -8.8681, -8.9785, -8.3169, -6.9568,\n",
      "         -8.0556, -8.6549, -9.6866, -6.1391, -5.7921, -2.9369, -6.9722, -5.5396,\n",
      "         -7.5481, -7.7010,  0.2770, -6.0174, -6.7741, -5.7805, -7.5331, -4.1245,\n",
      "         -6.1902,  0.2076, -5.9417, -6.6752, -5.8194, -6.2873, -3.0136, -6.9472,\n",
      "         -7.6577, -6.9981, -1.6364, -7.1381, -3.3347, -0.3032, -7.0819, -4.9063,\n",
      "         -3.3286, -5.8954, -0.8187,  3.2064, -5.0222, -1.0022, -6.4608, -7.1893,\n",
      "         -5.6113, -7.6004, -3.7722, -7.3927, -4.0955, -6.7227, -7.8220, -4.8062,\n",
      "         -7.1633, -6.6769, -7.8800, -5.0741, -5.8118, -6.3506, -6.2022, -2.3837,\n",
      "          2.7501, -3.8658, -4.6696, -1.4913,  0.2677, -5.6902, -6.2720, -5.5310,\n",
      "         -1.9928, -5.8899, -5.3857, -5.2823, -5.0645, -5.9000, -5.2212, -6.6190,\n",
      "         -6.3886, -7.3289, -8.6476, -6.3967, -8.1970, -8.4653, -5.5997, -7.7694,\n",
      "         -6.8590, -8.8665, -5.3252, -6.0127, -1.8547, -3.4423, -5.7528, -5.4801,\n",
      "         -0.0601,  6.4625, -1.7582, -1.2721, -4.2076, -3.8379, -3.3338, -0.7524,\n",
      "         -4.6747, -5.5140, -3.4598, -4.2481, -6.1394]],\n",
      "       grad_fn=<CopyBackwards>), end_logits=tensor([[-1.5750, -7.6403, -8.3452, -8.3121, -8.0398, -7.7713, -7.4531, -6.5475,\n",
      "         -7.3321, -6.9309, -7.6995, -1.5750, -5.0128, -2.4964, -6.3468, -7.2302,\n",
      "         -6.9612, -7.0649, -4.7218, -5.4034, -5.9140, -0.7258, -6.2481, -1.4762,\n",
      "         -6.4129, -4.5938, -5.3291, -5.3679, -0.9667, -6.3638, -5.9603, -6.0288,\n",
      "         -4.5289, -6.0379,  1.3676, -4.7539, -6.8854, -5.4297, -7.3182, -4.3886,\n",
      "         -3.2506, -1.1000, -5.9306, -2.7020, -3.5257, -4.5429, -4.1006, -5.5043,\n",
      "         -0.1806, -1.5742, -1.1337, -2.3201, -4.9951, -2.2189, -2.4389, -4.4232,\n",
      "         -5.4452, -1.2175, -2.6307, -4.6084,  1.2454, -0.3786, -1.7400, -5.4649,\n",
      "         -3.3748, -3.3077, -1.5482, -6.0378, -4.2249, -2.9523, -2.1113, -4.7003,\n",
      "         -4.0867, -3.0214,  1.0932, -5.7299, -4.6185,  0.5131,  2.9711, -2.7440,\n",
      "         -6.3467, -6.1694, -6.3975, -6.6789, -6.4671, -5.6469, -2.9710, -6.7976,\n",
      "         -6.3139, -6.4021, -2.3691, -5.6382, -4.8670, -6.6837, -6.4162, -4.4184,\n",
      "         -4.4409, -2.4046, -0.5865, -2.9146, -3.9640, -0.4317, -2.5977, -1.5892,\n",
      "         -2.3943, -2.7465,  6.9714,  5.4016, -1.5757]],\n",
      "       grad_fn=<CopyBackwards>), hidden_states=None, attentions=None)\n",
      "Question: Transformers provides interoperability between which frameworks?\n",
      "Answer: tensorflow 2. 0 and pytorch\n",
      "\n"
     ]
    }
   ],
   "source": [
    "text = r\"\"\"\n",
    "🤗 Transformers (formerly known as pytorch-transformers and pytorch-pretrained-bert) provides general-purpose\n",
    "architectures (BERT, GPT-2, RoBERTa, XLM, DistilBert, XLNet…) for Natural Language Understanding (NLU) and Natural\n",
    "Language Generation (NLG) with over 32+ pretrained models in 100+ languages and deep interoperability between\n",
    "TensorFlow 2.0 and PyTorch.\n",
    "\"\"\"\n",
    "questions = [\n",
    "    \"How many pretrained models are available in Transformers?\",\n",
    "    \"What does Transformers provide?\",\n",
    "    \"Transformers provides interoperability between which frameworks?\",\n",
    "]\n",
    "for question in questions:\n",
    "    inputs = tokenizer.encode_plus(question, text, add_special_tokens=True, return_tensors=\"pt\")\n",
    "    input_ids = inputs[\"input_ids\"].tolist()[0]\n",
    "    text_tokens = tokenizer.convert_ids_to_tokens(input_ids)\n",
    "\n",
    "    pred = model(**inputs)\n",
    "    print(pred)\n",
    "    answer_start_scores, answer_end_scores = pred['start_logits'][0] ,pred['end_logits'][0]\n",
    "\n",
    "    answer_start = torch.argmax(\n",
    "        answer_start_scores\n",
    "    )  # Get the most likely beginning of answer with the argmax of the score\n",
    "    answer_end = torch.argmax(answer_end_scores) + 1  # Get the most likely end of answer with the argmax of the score\n",
    "    answer = tokenizer.convert_tokens_to_string(tokenizer.convert_ids_to_tokens(input_ids[answer_start:answer_end]))\n",
    "    print(f\"Question: {question}\")\n",
    "    print(f\"Answer: {answer}\\n\")"
   ]
  },
  {
   "cell_type": "code",
   "execution_count": 2,
   "id": "d406d5d8",
   "metadata": {},
   "outputs": [
    {
     "data": {
      "application/vnd.jupyter.widget-view+json": {
       "model_id": "aabb7935217e4461b18d6f2616f94ef2",
       "version_major": 2,
       "version_minor": 0
      },
      "text/plain": [
       "Downloading builder script:   0%|          | 0.00/1.97k [00:00<?, ?B/s]"
      ]
     },
     "metadata": {},
     "output_type": "display_data"
    },
    {
     "data": {
      "application/vnd.jupyter.widget-view+json": {
       "model_id": "9b2ebdf4dca84ebfb8d52b425b5d98f2",
       "version_major": 2,
       "version_minor": 0
      },
      "text/plain": [
       "Downloading metadata:   0%|          | 0.00/1.02k [00:00<?, ?B/s]"
      ]
     },
     "metadata": {},
     "output_type": "display_data"
    },
    {
     "name": "stdout",
     "output_type": "stream",
     "text": [
      "Downloading and preparing dataset squad/plain_text (download: 33.51 MiB, generated: 85.63 MiB, post-processed: Unknown size, total: 119.14 MiB) to /home/abdelrahman/.cache/huggingface/datasets/squad/plain_text/1.0.0/d6ec3ceb99ca480ce37cdd35555d6cb2511d223b9150cce08a837ef62ffea453...\n"
     ]
    },
    {
     "data": {
      "application/vnd.jupyter.widget-view+json": {
       "model_id": "987a3578659f48b3ba6bfea5677dee90",
       "version_major": 2,
       "version_minor": 0
      },
      "text/plain": [
       "Downloading data files:   0%|          | 0/2 [00:00<?, ?it/s]"
      ]
     },
     "metadata": {},
     "output_type": "display_data"
    },
    {
     "data": {
      "application/vnd.jupyter.widget-view+json": {
       "model_id": "648b024b243e43d49238557de030313e",
       "version_major": 2,
       "version_minor": 0
      },
      "text/plain": [
       "Downloading data:   0%|          | 0.00/8.12M [00:00<?, ?B/s]"
      ]
     },
     "metadata": {},
     "output_type": "display_data"
    },
    {
     "data": {
      "application/vnd.jupyter.widget-view+json": {
       "model_id": "df6ee0bda1554922a69dbf72e5235263",
       "version_major": 2,
       "version_minor": 0
      },
      "text/plain": [
       "Downloading data:   0%|          | 0.00/1.05M [00:00<?, ?B/s]"
      ]
     },
     "metadata": {},
     "output_type": "display_data"
    },
    {
     "data": {
      "application/vnd.jupyter.widget-view+json": {
       "model_id": "1ab8479cfeb240989189363b7cd3d45b",
       "version_major": 2,
       "version_minor": 0
      },
      "text/plain": [
       "Extracting data files:   0%|          | 0/2 [00:00<?, ?it/s]"
      ]
     },
     "metadata": {},
     "output_type": "display_data"
    },
    {
     "data": {
      "application/vnd.jupyter.widget-view+json": {
       "model_id": "4a820beaf3f24194970b94bdeaee0d11",
       "version_major": 2,
       "version_minor": 0
      },
      "text/plain": [
       "Generating train split:   0%|          | 0/87599 [00:00<?, ? examples/s]"
      ]
     },
     "metadata": {},
     "output_type": "display_data"
    },
    {
     "data": {
      "application/vnd.jupyter.widget-view+json": {
       "model_id": "33ab90329900427fa96c5b897dfe3018",
       "version_major": 2,
       "version_minor": 0
      },
      "text/plain": [
       "Generating validation split:   0%|          | 0/10570 [00:00<?, ? examples/s]"
      ]
     },
     "metadata": {},
     "output_type": "display_data"
    },
    {
     "name": "stdout",
     "output_type": "stream",
     "text": [
      "Dataset squad downloaded and prepared to /home/abdelrahman/.cache/huggingface/datasets/squad/plain_text/1.0.0/d6ec3ceb99ca480ce37cdd35555d6cb2511d223b9150cce08a837ef62ffea453. Subsequent calls will reuse this data.\n"
     ]
    },
    {
     "data": {
      "application/vnd.jupyter.widget-view+json": {
       "model_id": "3321abb1844442079c03815eb78ffe18",
       "version_major": 2,
       "version_minor": 0
      },
      "text/plain": [
       "  0%|          | 0/2 [00:00<?, ?it/s]"
      ]
     },
     "metadata": {},
     "output_type": "display_data"
    },
    {
     "name": "stdout",
     "output_type": "stream",
     "text": [
      "Context:On 18 January 2014, the interim government successfully institutionalised a more secular constitution. The president is elected to a four-year term and may serve 2 terms. The parliament may impeach the president. Under the constitution, there is a guarantee of gender equality and absolute freedom of thought. The military retains the ability to appoint the national Minister of Defence for the next 8 years. Under the constitution, political parties may not be based on \"religion, race, gender or geography\".\n",
      "Question:Who may impeach the president?\n",
      "Answer:['parliament']\n",
      "Answer Start in Text:[175]\n",
      "----------------------------------------------------------------------------------------------------\n",
      "Context:The Russians avoided Napoleon's objective of a decisive engagement and instead retreated deeper into Russia. A brief attempt at resistance was made at Smolensk in August; the Russians were defeated in a series of battles, and Napoleon resumed his advance. The Russians again avoided battle, although in a few cases this was only achieved because Napoleon uncharacteristically hesitated to attack when the opportunity arose. Owing to the Russian army's scorched earth tactics, the French found it increasingly difficult to forage food for themselves and their horses.\n",
      "Question:To avoid direct fighting with Napoleon, the Russians retreated into which country?\n",
      "Answer:['Russia']\n",
      "Answer Start in Text:[101]\n",
      "----------------------------------------------------------------------------------------------------\n",
      "Context:In 1516, William IV, Duke of Bavaria, adopted the Reinheitsgebot (purity law), perhaps the oldest food-quality regulation still in use in the 21st century, according to which the only allowed ingredients of beer are water, hops and barley-malt. Beer produced before the Industrial Revolution continued to be made and sold on a domestic scale, although by the 7th century AD, beer was also being produced and sold by European monasteries. During the Industrial Revolution, the production of beer moved from artisanal manufacture to industrial manufacture, and domestic manufacture ceased to be significant by the end of the 19th century. The development of hydrometers and thermometers changed brewing by allowing the brewer more control of the process and greater knowledge of the results.\n",
      "Question:Who was the Duke of Bavaria in 1516?\n",
      "Answer:['William IV']\n",
      "Answer Start in Text:[9]\n",
      "----------------------------------------------------------------------------------------------------\n",
      "Context:By 1878, because of the growing popularity of the city, one railroad line could no longer keep up with demand. Soon, the Philadelphia and Atlantic City Railway was also constructed to transport tourists to Atlantic City. At this point massive hotels like The United States and Surf House, as well as smaller rooming houses, had sprung up all over town. The United States Hotel took up a full city block between Atlantic, Pacific, Delaware, and Maryland Avenues. These hotels were not only impressive in size, but featured the most updated amenities, and were considered quite luxurious for their time.\n",
      "Question:Besides massive hotels, what else was appearing all over Atlantic City during this period?\n",
      "Answer:['rooming houses']\n",
      "Answer Start in Text:[308]\n",
      "----------------------------------------------------------------------------------------------------\n",
      "Context:However, all of these facets of medieval university life are considered by standard scholarship to be independent medieval European developments with no tracable Islamic influence. Generally, some reviewers have pointed out the strong inclination of Makdisi of overstating his case by simply resting on \"the accumulation of close parallels\", but all the while failing to point to convincing channels of transmission between the Muslim and Christian world. Norman Daniel points out that the Arab equivalent of the Latin disputation, the taliqa, was reserved for the ruler's court, not the madrasa, and that the actual differences between Islamic fiqh and medieval European civil law were profound. The taliqa only reached Islamic Spain, the only likely point of transmission, after the establishment of the first medieval universities. In fact, there is no Latin translation of the taliqa and, most importantly, no evidence of Latin scholars ever showing awareness of Arab influence on the Latin method of disputation, something they would have certainly found noteworthy. Rather, it was the medieval reception of the Greek Organon which set the scholastic sic et non in motion. Daniel concludes that resemblances in method had more to with the two religions having \"common problems: to reconcile the conflicting statements of their own authorities, and to safeguard the data of revelation from the impact of Greek philosophy\"; thus Christian scholasticism and similar Arab concepts should be viewed in terms of a parallel occurrence, not of the transmission of ideas from one to the other, a view shared by Hugh Kennedy.\n",
      "Question:What was Makdisi accused of doing when evaluating the parallels between European and Islamic schools?\n",
      "Answer:['overstating his case']\n",
      "Answer Start in Text:[261]\n",
      "----------------------------------------------------------------------------------------------------\n",
      "Context:Adult contemporary music (AC) is a style of music, ranging from 1960s vocal and 1970s soft rock music to predominantly ballad-heavy music of the present day, with varying degrees of easy listening, pop, soul, rhythm and blues, quiet storm, and rock influence. Adult contemporary is rather a continuation of the easy listening and soft rock style that became popular in the 1960s and 1970s with some adjustments that reflect the evolution of pop/rock music.\n",
      "Question:What type of adult contemporary music was popular in the 1960s?\n",
      "Answer:['vocal']\n",
      "Answer Start in Text:[70]\n",
      "----------------------------------------------------------------------------------------------------\n",
      "Context:Nanjing is the intersection of Yangtze River, an east-west water transport artery, and Nanjing–Beijing railway, a south-north land transport artery, hence the name “door of the east and west, throat of the south and north”. Furthermore, the west part of the Ningzhen range is in Nanjing; the Loong-like Zhong Mountain is curling in the east of the city; the tiger-like Stone Mountain is crouching in the west of the city, hence the name “the Zhong Mountain, a dragon curling, and the Stone Mountain, a tiger crouching”. Mr. Sun Yet-sen spoke highly of Nanjing in the “Constructive Scheme for Our Country”, “The position of Nanjing is wonderful since mountains, lakes and plains all integrated in it. It is hard to find another city like this.”\n",
      "Question:What mountain lies in the west of Nanjing?\n",
      "Answer:['Stone Mountain']\n",
      "Answer Start in Text:[369]\n",
      "----------------------------------------------------------------------------------------------------\n",
      "Context:Investment in the city continued. The William Enston Home, a planned community for the city's aged and infirm, was built in 1889. An elaborate public building, the United States Post Office and Courthouse, was completed by the federal government in 1896 in the heart of the city. The Democrat-dominated state legislature passed a new constitution in 1895 that disfranchised blacks, effectively excluding them entirely from the political process, a second-class status that was maintained for more than six decades in a state that was majority black until about 1930.\n",
      "Question:A large post office and courthouse was built in what year?\n",
      "Answer:['1896']\n",
      "Answer Start in Text:[249]\n",
      "----------------------------------------------------------------------------------------------------\n",
      "Context:The concept of 'education through recreation' was applied to childhood development in the 19th century. In the early 20th century, the concept was broadened to include young adults but the emphasis was on physical activities. L.P. Jacks, also an early proponent of lifelong learning, described education through recreation: \"A master in the art of living draws no sharp distinction between his work and his play, his labour and his leisure, his mind and his body, his education and his recreation. He hardly knows which is which. He simply pursues his vision of excellence through whatever he is doing and leaves others to determine whether he is working or playing. To himself he always seems to be doing both. Enough for him that he does it well.\" Education through recreation is the opportunity to learn in a seamless fashion through all of life's activities. The concept has been revived by the University of Western Ontario to teach anatomy to medical students.\n",
      "Question:What changed when the concept was broadened?\n",
      "Answer:['to include young adults']\n",
      "Answer Start in Text:[157]\n",
      "----------------------------------------------------------------------------------------------------\n",
      "Context:In contrast, the ROK Army defenders were relatively unprepared and ill-equipped. In South to the Naktong, North to the Yalu (1961), R.E. Appleman reports the ROK forces' low combat readiness as of 25 June 1950. The ROK Army had 98,000 soldiers (65,000 combat, 33,000 support), no tanks (they had been requested from the U.S. military, but requests were denied), and a 22-piece air force comprising 12 liaison-type and 10 AT6 advanced-trainer airplanes. There were no large foreign military garrisons in Korea at the time of the invasion, but there were large U.S. garrisons and air forces in Japan.\n",
      "Question:In what country did the US maintain air forces and garrisons?\n",
      "Answer:['Japan']\n",
      "Answer Start in Text:[592]\n",
      "----------------------------------------------------------------------------------------------------\n"
     ]
    }
   ],
   "source": [
    "datasets = load_dataset(\"squad\")\n",
    "def visualize(datasets, datatype = 'train', n_questions=10):\n",
    "    n = len(datasets[datatype])\n",
    "    random_questions=random.choices(list(range(n)),k=n_questions)\n",
    "    for i in random_questions:\n",
    "        print(f\"Context:{datasets[datatype][i]['context']}\")\n",
    "        print(f\"Question:{datasets[datatype][i]['question']}\")\n",
    "        print(f\"Answer:{datasets[datatype][i]['answers']['text']}\")\n",
    "        print(f\"Answer Start in Text:{datasets[datatype][i]['answers']['answer_start']}\")\n",
    "        print(\"-\"*100)\n",
    "visualize(datasets)"
   ]
  },
  {
   "cell_type": "code",
   "execution_count": 25,
   "id": "789412a7",
   "metadata": {},
   "outputs": [
    {
     "data": {
      "text/plain": [
       "Dataset({\n",
       "    features: ['id', 'title', 'context', 'question', 'answers'],\n",
       "    num_rows: 87599\n",
       "})"
      ]
     },
     "execution_count": 25,
     "metadata": {},
     "output_type": "execute_result"
    }
   ],
   "source": [
    "datasets['train']"
   ]
  },
  {
   "cell_type": "code",
   "execution_count": 8,
   "id": "6aec7338",
   "metadata": {},
   "outputs": [
    {
     "data": {
      "text/plain": [
       "Dataset({\n",
       "    features: ['id', 'title', 'context', 'question', 'answers'],\n",
       "    num_rows: 87599\n",
       "})"
      ]
     },
     "execution_count": 8,
     "metadata": {},
     "output_type": "execute_result"
    }
   ],
   "source": [
    "datasets['train']"
   ]
  },
  {
   "cell_type": "code",
   "execution_count": 21,
   "id": "18be9083",
   "metadata": {},
   "outputs": [
    {
     "data": {
      "text/plain": [
       "{'id': '57341b484776f41900661888',\n",
       " 'title': 'Montana',\n",
       " 'context': 'Montana is home to a diverse array of fauna that includes 14 amphibian, 90 fish, 117 mammal, 20 reptile and 427 bird species. Additionally, there are over 10,000 invertebrate species, including 180 mollusks and 30 crustaceans. Montana has the largest grizzly bear population in the lower 48 states. Montana hosts five federally endangered species–black-footed ferret, whooping crane, least tern, pallid sturgeon and white sturgeon and seven threatened species including the grizzly bear, Canadian lynx and bull trout. The Montana Department of Fish, Wildlife and Parks manages fishing and hunting seasons for at least 17 species of game fish including seven species of trout, walleye and smallmouth bass and at least 29 species of game birds and animals including ring-neck pheasant, grey partridge, elk, pronghorn antelope, mule deer, whitetail deer, gray wolf and bighorn sheep.',\n",
       " 'question': 'How many species of game fish have hunting seasons?',\n",
       " 'answers': {'text': ['at least 17'], 'answer_start': [609]}}"
      ]
     },
     "execution_count": 21,
     "metadata": {},
     "output_type": "execute_result"
    }
   ],
   "source": [
    "datasets['train'][1100]"
   ]
  },
  {
   "cell_type": "code",
   "execution_count": 15,
   "id": "45f827c1",
   "metadata": {},
   "outputs": [
    {
     "data": {
      "text/plain": [
       "datasets.arrow_dataset.Dataset"
      ]
     },
     "execution_count": 15,
     "metadata": {},
     "output_type": "execute_result"
    }
   ],
   "source": [
    "type(datasets['train'])"
   ]
  },
  {
   "cell_type": "code",
   "execution_count": null,
   "id": "a1b30de3",
   "metadata": {},
   "outputs": [],
   "source": [
    "datasets = load_dataset(\"squad\")\n",
    "def visualize(datasets, datatype = 'train', n_questions=10):\n",
    "    n = len(datasets[datatype])\n",
    "    random_questions=random.choices(list(range(n)),k=n_questions)\n",
    "    for i in random_questions:\n",
    "        print(f\"Context:{datasets[datatype][i]['context']}\")\n",
    "        print(f\"Question:{datasets[datatype][i]['question']}\")\n",
    "        print(f\"Answer:{datasets[datatype][i]['answers']['text']}\")\n",
    "        print(f\"Answer Start in Text:{datasets[datatype][i]['answers']['answer_start']}\")\n",
    "        print(\"-\"*100)\n",
    "visualize(datasets)"
   ]
  }
 ],
 "metadata": {
  "kernelspec": {
   "display_name": "Python 3",
   "language": "python",
   "name": "python3"
  },
  "language_info": {
   "codemirror_mode": {
    "name": "ipython",
    "version": 3
   },
   "file_extension": ".py",
   "mimetype": "text/x-python",
   "name": "python",
   "nbconvert_exporter": "python",
   "pygments_lexer": "ipython3",
   "version": "3.6.9"
  }
 },
 "nbformat": 4,
 "nbformat_minor": 5
}
